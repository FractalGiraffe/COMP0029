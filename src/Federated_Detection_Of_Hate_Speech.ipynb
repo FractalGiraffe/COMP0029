{
  "cells": [
    {
      "cell_type": "markdown",
      "metadata": {
        "deletable": true,
        "editable": true,
        "id": "apGSirTgLLOE"
      },
      "source": [
        "# Referenced and rewritten from [Automated Hate Speech Detection and the Problem of Offensive Language.ipynb](https://github.com/t-davidson/hate-speech-and-offensive-language/blob/master/src/Automated%20Hate%20Speech%20Detection%20and%20the%20Problem%20of%20Offensive%20Language.ipynb)"
      ]
    },
    {
      "cell_type": "markdown",
      "source": [
        "## Install project dependencies"
      ],
      "metadata": {
        "id": "hH_AXG4tBXY9"
      }
    },
    {
      "cell_type": "code",
      "source": [
        "!pip install vaderSentiment\n",
        "!pip install textstat\n",
        "!pip install flwr"
      ],
      "metadata": {
        "colab": {
          "base_uri": "https://localhost:8080/"
        },
        "id": "06McKulLLqQf",
        "outputId": "63cc9438-2f3d-49bc-9317-a8514aa32c26"
      },
      "execution_count": 122,
      "outputs": [
        {
          "output_type": "stream",
          "name": "stdout",
          "text": [
            "Requirement already satisfied: vaderSentiment in /usr/local/lib/python3.7/dist-packages (3.3.2)\n",
            "Requirement already satisfied: requests in /usr/local/lib/python3.7/dist-packages (from vaderSentiment) (2.23.0)\n",
            "Requirement already satisfied: urllib3!=1.25.0,!=1.25.1,<1.26,>=1.21.1 in /usr/local/lib/python3.7/dist-packages (from requests->vaderSentiment) (1.24.3)\n",
            "Requirement already satisfied: chardet<4,>=3.0.2 in /usr/local/lib/python3.7/dist-packages (from requests->vaderSentiment) (3.0.4)\n",
            "Requirement already satisfied: certifi>=2017.4.17 in /usr/local/lib/python3.7/dist-packages (from requests->vaderSentiment) (2021.10.8)\n",
            "Requirement already satisfied: idna<3,>=2.5 in /usr/local/lib/python3.7/dist-packages (from requests->vaderSentiment) (2.10)\n",
            "Requirement already satisfied: textstat in /usr/local/lib/python3.7/dist-packages (0.7.2)\n",
            "Requirement already satisfied: pyphen in /usr/local/lib/python3.7/dist-packages (from textstat) (0.11.0)\n",
            "Requirement already satisfied: flwr in /usr/local/lib/python3.7/dist-packages (0.17.0)\n",
            "Requirement already satisfied: grpcio<2.0.0,>=1.27.2 in /usr/local/lib/python3.7/dist-packages (from flwr) (1.42.0)\n",
            "Requirement already satisfied: numpy<2.0.0,>=1.19.0 in /usr/local/lib/python3.7/dist-packages (from flwr) (1.19.5)\n",
            "Requirement already satisfied: google<3.0.0,>=2.0.3 in /usr/local/lib/python3.7/dist-packages (from flwr) (2.0.3)\n",
            "Requirement already satisfied: protobuf<4.0.0,>=3.12.1 in /usr/local/lib/python3.7/dist-packages (from flwr) (3.17.3)\n",
            "Requirement already satisfied: beautifulsoup4 in /usr/local/lib/python3.7/dist-packages (from google<3.0.0,>=2.0.3->flwr) (4.6.3)\n",
            "Requirement already satisfied: six>=1.5.2 in /usr/local/lib/python3.7/dist-packages (from grpcio<2.0.0,>=1.27.2->flwr) (1.15.0)\n"
          ]
        }
      ]
    },
    {
      "cell_type": "code",
      "execution_count": 123,
      "metadata": {
        "deletable": true,
        "editable": true,
        "id": "mMKXiA0eLLOG"
      },
      "outputs": [],
      "source": [
        "import pandas as pd\n",
        "import numpy as np\n",
        "import pickle\n",
        "import sys\n",
        "import string\n",
        "import re\n",
        "import nltk\n",
        "import matplotlib.pyplot as plt\n",
        "import seaborn\n",
        "import flwr as fl\n",
        "import os\n",
        "import warnings\n",
        "import multiprocessing as mp\n",
        "from nltk.stem.porter import *\n",
        "from sklearn.feature_extraction.text import TfidfVectorizer\n",
        "from sklearn.linear_model import LogisticRegression\n",
        "from sklearn.feature_selection import SelectFromModel\n",
        "from sklearn.metrics import classification_report\n",
        "from sklearn.pipeline import make_pipeline\n",
        "from sklearn.metrics import confusion_matrix\n",
        "from sklearn.metrics import log_loss\n",
        "from sklearn.model_selection import train_test_split\n",
        "from vaderSentiment.vaderSentiment import SentimentIntensityAnalyzer as VS\n",
        "from textstat.textstat import *\n",
        "from typing import Tuple, Union, List, Dict\n",
        "from google.colab import drive\n",
        "%matplotlib inline"
      ]
    },
    {
      "cell_type": "markdown",
      "source": [
        "## Mounting external storage"
      ],
      "metadata": {
        "id": "5UmAmOS7BVDk"
      }
    },
    {
      "cell_type": "code",
      "source": [
        "drive.mount('/content/drive')"
      ],
      "metadata": {
        "colab": {
          "base_uri": "https://localhost:8080/"
        },
        "id": "yvAKAU9TLgkO",
        "outputId": "1c76e23c-f531-4397-8fdc-c8839a6626fa"
      },
      "execution_count": 124,
      "outputs": [
        {
          "output_type": "stream",
          "name": "stdout",
          "text": [
            "Drive already mounted at /content/drive; to attempt to forcibly remount, call drive.mount(\"/content/drive\", force_remount=True).\n"
          ]
        }
      ]
    },
    {
      "cell_type": "markdown",
      "metadata": {
        "deletable": true,
        "editable": true,
        "id": "hwKkn2DTLLOH"
      },
      "source": [
        "## Loading the data"
      ]
    },
    {
      "cell_type": "code",
      "execution_count": 125,
      "metadata": {
        "deletable": true,
        "editable": true,
        "id": "xpVnw4tzLLOI"
      },
      "outputs": [],
      "source": [
        "df = pd.read_pickle(open(\"/content/drive/MyDrive/COMP0029/labeled_data.p\", mode='rb'))"
      ]
    },
    {
      "cell_type": "code",
      "execution_count": 126,
      "metadata": {
        "deletable": true,
        "editable": true,
        "id": "tCg6WZzCLLOI",
        "outputId": "116f0b0b-188f-4b83-ef3f-7aee9a10fde6",
        "colab": {
          "base_uri": "https://localhost:8080/",
          "height": 424
        }
      },
      "outputs": [
        {
          "output_type": "execute_result",
          "data": {
            "text/html": [
              "\n",
              "  <div id=\"df-c8ce0b3c-3f38-4b21-a5bd-eb6903de52e0\">\n",
              "    <div class=\"colab-df-container\">\n",
              "      <div>\n",
              "<style scoped>\n",
              "    .dataframe tbody tr th:only-of-type {\n",
              "        vertical-align: middle;\n",
              "    }\n",
              "\n",
              "    .dataframe tbody tr th {\n",
              "        vertical-align: top;\n",
              "    }\n",
              "\n",
              "    .dataframe thead th {\n",
              "        text-align: right;\n",
              "    }\n",
              "</style>\n",
              "<table border=\"1\" class=\"dataframe\">\n",
              "  <thead>\n",
              "    <tr style=\"text-align: right;\">\n",
              "      <th></th>\n",
              "      <th>count</th>\n",
              "      <th>hate_speech</th>\n",
              "      <th>offensive_language</th>\n",
              "      <th>neither</th>\n",
              "      <th>class</th>\n",
              "      <th>tweet</th>\n",
              "    </tr>\n",
              "  </thead>\n",
              "  <tbody>\n",
              "    <tr>\n",
              "      <th>0</th>\n",
              "      <td>3</td>\n",
              "      <td>0</td>\n",
              "      <td>0</td>\n",
              "      <td>3</td>\n",
              "      <td>2</td>\n",
              "      <td>!!! RT @mayasolovely: As a woman you shouldn't...</td>\n",
              "    </tr>\n",
              "    <tr>\n",
              "      <th>1</th>\n",
              "      <td>3</td>\n",
              "      <td>0</td>\n",
              "      <td>3</td>\n",
              "      <td>0</td>\n",
              "      <td>1</td>\n",
              "      <td>!!!!! RT @mleew17: boy dats cold...tyga dwn ba...</td>\n",
              "    </tr>\n",
              "    <tr>\n",
              "      <th>2</th>\n",
              "      <td>3</td>\n",
              "      <td>0</td>\n",
              "      <td>3</td>\n",
              "      <td>0</td>\n",
              "      <td>1</td>\n",
              "      <td>!!!!!!! RT @UrKindOfBrand Dawg!!!! RT @80sbaby...</td>\n",
              "    </tr>\n",
              "    <tr>\n",
              "      <th>3</th>\n",
              "      <td>3</td>\n",
              "      <td>0</td>\n",
              "      <td>2</td>\n",
              "      <td>1</td>\n",
              "      <td>1</td>\n",
              "      <td>!!!!!!!!! RT @C_G_Anderson: @viva_based she lo...</td>\n",
              "    </tr>\n",
              "    <tr>\n",
              "      <th>4</th>\n",
              "      <td>6</td>\n",
              "      <td>0</td>\n",
              "      <td>6</td>\n",
              "      <td>0</td>\n",
              "      <td>1</td>\n",
              "      <td>!!!!!!!!!!!!! RT @ShenikaRoberts: The shit you...</td>\n",
              "    </tr>\n",
              "    <tr>\n",
              "      <th>...</th>\n",
              "      <td>...</td>\n",
              "      <td>...</td>\n",
              "      <td>...</td>\n",
              "      <td>...</td>\n",
              "      <td>...</td>\n",
              "      <td>...</td>\n",
              "    </tr>\n",
              "    <tr>\n",
              "      <th>25291</th>\n",
              "      <td>3</td>\n",
              "      <td>0</td>\n",
              "      <td>2</td>\n",
              "      <td>1</td>\n",
              "      <td>1</td>\n",
              "      <td>you's a muthaf***in lie &amp;#8220;@LifeAsKing: @2...</td>\n",
              "    </tr>\n",
              "    <tr>\n",
              "      <th>25292</th>\n",
              "      <td>3</td>\n",
              "      <td>0</td>\n",
              "      <td>1</td>\n",
              "      <td>2</td>\n",
              "      <td>2</td>\n",
              "      <td>you've gone and broke the wrong heart baby, an...</td>\n",
              "    </tr>\n",
              "    <tr>\n",
              "      <th>25294</th>\n",
              "      <td>3</td>\n",
              "      <td>0</td>\n",
              "      <td>3</td>\n",
              "      <td>0</td>\n",
              "      <td>1</td>\n",
              "      <td>young buck wanna eat!!.. dat nigguh like I ain...</td>\n",
              "    </tr>\n",
              "    <tr>\n",
              "      <th>25295</th>\n",
              "      <td>6</td>\n",
              "      <td>0</td>\n",
              "      <td>6</td>\n",
              "      <td>0</td>\n",
              "      <td>1</td>\n",
              "      <td>youu got wild bitches tellin you lies</td>\n",
              "    </tr>\n",
              "    <tr>\n",
              "      <th>25296</th>\n",
              "      <td>3</td>\n",
              "      <td>0</td>\n",
              "      <td>0</td>\n",
              "      <td>3</td>\n",
              "      <td>2</td>\n",
              "      <td>~~Ruffled | Ntac Eileen Dahlia - Beautiful col...</td>\n",
              "    </tr>\n",
              "  </tbody>\n",
              "</table>\n",
              "<p>24783 rows × 6 columns</p>\n",
              "</div>\n",
              "      <button class=\"colab-df-convert\" onclick=\"convertToInteractive('df-c8ce0b3c-3f38-4b21-a5bd-eb6903de52e0')\"\n",
              "              title=\"Convert this dataframe to an interactive table.\"\n",
              "              style=\"display:none;\">\n",
              "        \n",
              "  <svg xmlns=\"http://www.w3.org/2000/svg\" height=\"24px\"viewBox=\"0 0 24 24\"\n",
              "       width=\"24px\">\n",
              "    <path d=\"M0 0h24v24H0V0z\" fill=\"none\"/>\n",
              "    <path d=\"M18.56 5.44l.94 2.06.94-2.06 2.06-.94-2.06-.94-.94-2.06-.94 2.06-2.06.94zm-11 1L8.5 8.5l.94-2.06 2.06-.94-2.06-.94L8.5 2.5l-.94 2.06-2.06.94zm10 10l.94 2.06.94-2.06 2.06-.94-2.06-.94-.94-2.06-.94 2.06-2.06.94z\"/><path d=\"M17.41 7.96l-1.37-1.37c-.4-.4-.92-.59-1.43-.59-.52 0-1.04.2-1.43.59L10.3 9.45l-7.72 7.72c-.78.78-.78 2.05 0 2.83L4 21.41c.39.39.9.59 1.41.59.51 0 1.02-.2 1.41-.59l7.78-7.78 2.81-2.81c.8-.78.8-2.07 0-2.86zM5.41 20L4 18.59l7.72-7.72 1.47 1.35L5.41 20z\"/>\n",
              "  </svg>\n",
              "      </button>\n",
              "      \n",
              "  <style>\n",
              "    .colab-df-container {\n",
              "      display:flex;\n",
              "      flex-wrap:wrap;\n",
              "      gap: 12px;\n",
              "    }\n",
              "\n",
              "    .colab-df-convert {\n",
              "      background-color: #E8F0FE;\n",
              "      border: none;\n",
              "      border-radius: 50%;\n",
              "      cursor: pointer;\n",
              "      display: none;\n",
              "      fill: #1967D2;\n",
              "      height: 32px;\n",
              "      padding: 0 0 0 0;\n",
              "      width: 32px;\n",
              "    }\n",
              "\n",
              "    .colab-df-convert:hover {\n",
              "      background-color: #E2EBFA;\n",
              "      box-shadow: 0px 1px 2px rgba(60, 64, 67, 0.3), 0px 1px 3px 1px rgba(60, 64, 67, 0.15);\n",
              "      fill: #174EA6;\n",
              "    }\n",
              "\n",
              "    [theme=dark] .colab-df-convert {\n",
              "      background-color: #3B4455;\n",
              "      fill: #D2E3FC;\n",
              "    }\n",
              "\n",
              "    [theme=dark] .colab-df-convert:hover {\n",
              "      background-color: #434B5C;\n",
              "      box-shadow: 0px 1px 3px 1px rgba(0, 0, 0, 0.15);\n",
              "      filter: drop-shadow(0px 1px 2px rgba(0, 0, 0, 0.3));\n",
              "      fill: #FFFFFF;\n",
              "    }\n",
              "  </style>\n",
              "\n",
              "      <script>\n",
              "        const buttonEl =\n",
              "          document.querySelector('#df-c8ce0b3c-3f38-4b21-a5bd-eb6903de52e0 button.colab-df-convert');\n",
              "        buttonEl.style.display =\n",
              "          google.colab.kernel.accessAllowed ? 'block' : 'none';\n",
              "\n",
              "        async function convertToInteractive(key) {\n",
              "          const element = document.querySelector('#df-c8ce0b3c-3f38-4b21-a5bd-eb6903de52e0');\n",
              "          const dataTable =\n",
              "            await google.colab.kernel.invokeFunction('convertToInteractive',\n",
              "                                                     [key], {});\n",
              "          if (!dataTable) return;\n",
              "\n",
              "          const docLinkHtml = 'Like what you see? Visit the ' +\n",
              "            '<a target=\"_blank\" href=https://colab.research.google.com/notebooks/data_table.ipynb>data table notebook</a>'\n",
              "            + ' to learn more about interactive tables.';\n",
              "          element.innerHTML = '';\n",
              "          dataTable['output_type'] = 'display_data';\n",
              "          await google.colab.output.renderOutput(dataTable, element);\n",
              "          const docLink = document.createElement('div');\n",
              "          docLink.innerHTML = docLinkHtml;\n",
              "          element.appendChild(docLink);\n",
              "        }\n",
              "      </script>\n",
              "    </div>\n",
              "  </div>\n",
              "  "
            ],
            "text/plain": [
              "       count  ...                                              tweet\n",
              "0          3  ...  !!! RT @mayasolovely: As a woman you shouldn't...\n",
              "1          3  ...  !!!!! RT @mleew17: boy dats cold...tyga dwn ba...\n",
              "2          3  ...  !!!!!!! RT @UrKindOfBrand Dawg!!!! RT @80sbaby...\n",
              "3          3  ...  !!!!!!!!! RT @C_G_Anderson: @viva_based she lo...\n",
              "4          6  ...  !!!!!!!!!!!!! RT @ShenikaRoberts: The shit you...\n",
              "...      ...  ...                                                ...\n",
              "25291      3  ...  you's a muthaf***in lie &#8220;@LifeAsKing: @2...\n",
              "25292      3  ...  you've gone and broke the wrong heart baby, an...\n",
              "25294      3  ...  young buck wanna eat!!.. dat nigguh like I ain...\n",
              "25295      6  ...              youu got wild bitches tellin you lies\n",
              "25296      3  ...  ~~Ruffled | Ntac Eileen Dahlia - Beautiful col...\n",
              "\n",
              "[24783 rows x 6 columns]"
            ]
          },
          "metadata": {},
          "execution_count": 126
        }
      ],
      "source": [
        "df"
      ]
    },
    {
      "cell_type": "code",
      "execution_count": 127,
      "metadata": {
        "deletable": true,
        "editable": true,
        "id": "EzxqvWu-LLOJ",
        "outputId": "4c108714-1afd-4994-f0a0-b32e49859007",
        "colab": {
          "base_uri": "https://localhost:8080/",
          "height": 300
        }
      },
      "outputs": [
        {
          "output_type": "execute_result",
          "data": {
            "text/html": [
              "\n",
              "  <div id=\"df-a6c43e66-0c71-4d5f-b78b-1bd0448a3eaa\">\n",
              "    <div class=\"colab-df-container\">\n",
              "      <div>\n",
              "<style scoped>\n",
              "    .dataframe tbody tr th:only-of-type {\n",
              "        vertical-align: middle;\n",
              "    }\n",
              "\n",
              "    .dataframe tbody tr th {\n",
              "        vertical-align: top;\n",
              "    }\n",
              "\n",
              "    .dataframe thead th {\n",
              "        text-align: right;\n",
              "    }\n",
              "</style>\n",
              "<table border=\"1\" class=\"dataframe\">\n",
              "  <thead>\n",
              "    <tr style=\"text-align: right;\">\n",
              "      <th></th>\n",
              "      <th>count</th>\n",
              "      <th>hate_speech</th>\n",
              "      <th>offensive_language</th>\n",
              "      <th>neither</th>\n",
              "    </tr>\n",
              "  </thead>\n",
              "  <tbody>\n",
              "    <tr>\n",
              "      <th>count</th>\n",
              "      <td>24783.000000</td>\n",
              "      <td>24783.000000</td>\n",
              "      <td>24783.000000</td>\n",
              "      <td>24783.000000</td>\n",
              "    </tr>\n",
              "    <tr>\n",
              "      <th>mean</th>\n",
              "      <td>3.243473</td>\n",
              "      <td>0.280515</td>\n",
              "      <td>2.413711</td>\n",
              "      <td>0.549247</td>\n",
              "    </tr>\n",
              "    <tr>\n",
              "      <th>std</th>\n",
              "      <td>0.883060</td>\n",
              "      <td>0.631851</td>\n",
              "      <td>1.399459</td>\n",
              "      <td>1.113299</td>\n",
              "    </tr>\n",
              "    <tr>\n",
              "      <th>min</th>\n",
              "      <td>3.000000</td>\n",
              "      <td>0.000000</td>\n",
              "      <td>0.000000</td>\n",
              "      <td>0.000000</td>\n",
              "    </tr>\n",
              "    <tr>\n",
              "      <th>25%</th>\n",
              "      <td>3.000000</td>\n",
              "      <td>0.000000</td>\n",
              "      <td>2.000000</td>\n",
              "      <td>0.000000</td>\n",
              "    </tr>\n",
              "    <tr>\n",
              "      <th>50%</th>\n",
              "      <td>3.000000</td>\n",
              "      <td>0.000000</td>\n",
              "      <td>3.000000</td>\n",
              "      <td>0.000000</td>\n",
              "    </tr>\n",
              "    <tr>\n",
              "      <th>75%</th>\n",
              "      <td>3.000000</td>\n",
              "      <td>0.000000</td>\n",
              "      <td>3.000000</td>\n",
              "      <td>0.000000</td>\n",
              "    </tr>\n",
              "    <tr>\n",
              "      <th>max</th>\n",
              "      <td>9.000000</td>\n",
              "      <td>7.000000</td>\n",
              "      <td>9.000000</td>\n",
              "      <td>9.000000</td>\n",
              "    </tr>\n",
              "  </tbody>\n",
              "</table>\n",
              "</div>\n",
              "      <button class=\"colab-df-convert\" onclick=\"convertToInteractive('df-a6c43e66-0c71-4d5f-b78b-1bd0448a3eaa')\"\n",
              "              title=\"Convert this dataframe to an interactive table.\"\n",
              "              style=\"display:none;\">\n",
              "        \n",
              "  <svg xmlns=\"http://www.w3.org/2000/svg\" height=\"24px\"viewBox=\"0 0 24 24\"\n",
              "       width=\"24px\">\n",
              "    <path d=\"M0 0h24v24H0V0z\" fill=\"none\"/>\n",
              "    <path d=\"M18.56 5.44l.94 2.06.94-2.06 2.06-.94-2.06-.94-.94-2.06-.94 2.06-2.06.94zm-11 1L8.5 8.5l.94-2.06 2.06-.94-2.06-.94L8.5 2.5l-.94 2.06-2.06.94zm10 10l.94 2.06.94-2.06 2.06-.94-2.06-.94-.94-2.06-.94 2.06-2.06.94z\"/><path d=\"M17.41 7.96l-1.37-1.37c-.4-.4-.92-.59-1.43-.59-.52 0-1.04.2-1.43.59L10.3 9.45l-7.72 7.72c-.78.78-.78 2.05 0 2.83L4 21.41c.39.39.9.59 1.41.59.51 0 1.02-.2 1.41-.59l7.78-7.78 2.81-2.81c.8-.78.8-2.07 0-2.86zM5.41 20L4 18.59l7.72-7.72 1.47 1.35L5.41 20z\"/>\n",
              "  </svg>\n",
              "      </button>\n",
              "      \n",
              "  <style>\n",
              "    .colab-df-container {\n",
              "      display:flex;\n",
              "      flex-wrap:wrap;\n",
              "      gap: 12px;\n",
              "    }\n",
              "\n",
              "    .colab-df-convert {\n",
              "      background-color: #E8F0FE;\n",
              "      border: none;\n",
              "      border-radius: 50%;\n",
              "      cursor: pointer;\n",
              "      display: none;\n",
              "      fill: #1967D2;\n",
              "      height: 32px;\n",
              "      padding: 0 0 0 0;\n",
              "      width: 32px;\n",
              "    }\n",
              "\n",
              "    .colab-df-convert:hover {\n",
              "      background-color: #E2EBFA;\n",
              "      box-shadow: 0px 1px 2px rgba(60, 64, 67, 0.3), 0px 1px 3px 1px rgba(60, 64, 67, 0.15);\n",
              "      fill: #174EA6;\n",
              "    }\n",
              "\n",
              "    [theme=dark] .colab-df-convert {\n",
              "      background-color: #3B4455;\n",
              "      fill: #D2E3FC;\n",
              "    }\n",
              "\n",
              "    [theme=dark] .colab-df-convert:hover {\n",
              "      background-color: #434B5C;\n",
              "      box-shadow: 0px 1px 3px 1px rgba(0, 0, 0, 0.15);\n",
              "      filter: drop-shadow(0px 1px 2px rgba(0, 0, 0, 0.3));\n",
              "      fill: #FFFFFF;\n",
              "    }\n",
              "  </style>\n",
              "\n",
              "      <script>\n",
              "        const buttonEl =\n",
              "          document.querySelector('#df-a6c43e66-0c71-4d5f-b78b-1bd0448a3eaa button.colab-df-convert');\n",
              "        buttonEl.style.display =\n",
              "          google.colab.kernel.accessAllowed ? 'block' : 'none';\n",
              "\n",
              "        async function convertToInteractive(key) {\n",
              "          const element = document.querySelector('#df-a6c43e66-0c71-4d5f-b78b-1bd0448a3eaa');\n",
              "          const dataTable =\n",
              "            await google.colab.kernel.invokeFunction('convertToInteractive',\n",
              "                                                     [key], {});\n",
              "          if (!dataTable) return;\n",
              "\n",
              "          const docLinkHtml = 'Like what you see? Visit the ' +\n",
              "            '<a target=\"_blank\" href=https://colab.research.google.com/notebooks/data_table.ipynb>data table notebook</a>'\n",
              "            + ' to learn more about interactive tables.';\n",
              "          element.innerHTML = '';\n",
              "          dataTable['output_type'] = 'display_data';\n",
              "          await google.colab.output.renderOutput(dataTable, element);\n",
              "          const docLink = document.createElement('div');\n",
              "          docLink.innerHTML = docLinkHtml;\n",
              "          element.appendChild(docLink);\n",
              "        }\n",
              "      </script>\n",
              "    </div>\n",
              "  </div>\n",
              "  "
            ],
            "text/plain": [
              "              count   hate_speech  offensive_language       neither\n",
              "count  24783.000000  24783.000000        24783.000000  24783.000000\n",
              "mean       3.243473      0.280515            2.413711      0.549247\n",
              "std        0.883060      0.631851            1.399459      1.113299\n",
              "min        3.000000      0.000000            0.000000      0.000000\n",
              "25%        3.000000      0.000000            2.000000      0.000000\n",
              "50%        3.000000      0.000000            3.000000      0.000000\n",
              "75%        3.000000      0.000000            3.000000      0.000000\n",
              "max        9.000000      7.000000            9.000000      9.000000"
            ]
          },
          "metadata": {},
          "execution_count": 127
        }
      ],
      "source": [
        "df.describe()"
      ]
    },
    {
      "cell_type": "code",
      "execution_count": 128,
      "metadata": {
        "deletable": true,
        "editable": true,
        "id": "POVCiaOcLLOK",
        "outputId": "73844519-7c69-40aa-a255-66903cb3cda6",
        "colab": {
          "base_uri": "https://localhost:8080/"
        }
      },
      "outputs": [
        {
          "output_type": "execute_result",
          "data": {
            "text/plain": [
              "Index(['count', 'hate_speech', 'offensive_language', 'neither', 'class',\n",
              "       'tweet'],\n",
              "      dtype='object')"
            ]
          },
          "metadata": {},
          "execution_count": 128
        }
      ],
      "source": [
        "df.columns"
      ]
    },
    {
      "cell_type": "markdown",
      "metadata": {
        "deletable": true,
        "editable": true,
        "id": "rMFJw6U9LLOL"
      },
      "source": [
        "### Columns key:\n",
        "count = number of CrowdFlower users who coded each tweet (min is 3, sometimes more users coded a tweet when judgments were determined to be unreliable by CF).\n",
        "\n",
        "\n",
        "hate_speech = number of CF users who judged the tweet to be hate speech.\n",
        "\n",
        "\n",
        "offensive_language = number of CF users who judged the tweet to be offensive.\n",
        "\n",
        "\n",
        "neither = number of CF users who judged the tweet to be neither offensive nor non-offensive.\n",
        "\n",
        "\n",
        "class = class label for majority of CF users.\n",
        "\n",
        "    0 - hate speech\n",
        "    1 - offensive  language\n",
        "    2 - neither\n",
        "\n",
        "tweet = raw tweet text\n"
      ]
    },
    {
      "cell_type": "code",
      "execution_count": 129,
      "metadata": {
        "deletable": true,
        "editable": true,
        "id": "5JItAni1LLOL",
        "outputId": "cfb19398-801d-452d-9bdd-24c6f784007a",
        "colab": {
          "base_uri": "https://localhost:8080/",
          "height": 286
        }
      },
      "outputs": [
        {
          "output_type": "execute_result",
          "data": {
            "text/plain": [
              "<matplotlib.axes._subplots.AxesSubplot at 0x7fcdc64a9210>"
            ]
          },
          "metadata": {},
          "execution_count": 129
        },
        {
          "output_type": "display_data",
          "data": {
            "image/png": "[encoded data removed]",
            "text/plain": [
              "<Figure size 432x288 with 1 Axes>"
            ]
          },
          "metadata": {
            "needs_background": "light"
          }
        }
      ],
      "source": [
        "df['class'].hist()"
      ]
    },
    {
      "cell_type": "markdown",
      "metadata": {
        "deletable": true,
        "editable": true,
        "id": "g2csNiUqLLON"
      },
      "source": [
        "This histogram shows the imbalanced nature of the task - most tweets containing \"hate\" words as defined by Hatebase were \n",
        "only considered to be offensive by the CF coders. More tweets were considered to be neither hate speech nor offensive language than were considered hate speech."
      ]
    },
    {
      "cell_type": "code",
      "execution_count": 130,
      "metadata": {
        "deletable": true,
        "editable": true,
        "id": "P9ahx9HDLLON"
      },
      "outputs": [],
      "source": [
        "tweets=df.tweet"
      ]
    },
    {
      "cell_type": "markdown",
      "metadata": {
        "deletable": true,
        "editable": true,
        "id": "zzBYrPoSLLOO"
      },
      "source": [
        "## Feature generation"
      ]
    },
    {
      "cell_type": "code",
      "execution_count": 131,
      "metadata": {
        "deletable": true,
        "editable": true,
        "id": "mL-YdNXuLLOP",
        "colab": {
          "base_uri": "https://localhost:8080/"
        },
        "outputId": "02b8ad2c-a8d4-4d43-b5f1-399befb80371"
      },
      "outputs": [
        {
          "output_type": "stream",
          "name": "stdout",
          "text": [
            "[nltk_data] Downloading package stopwords to /root/nltk_data...\n",
            "[nltk_data]   Package stopwords is already up-to-date!\n"
          ]
        }
      ],
      "source": [
        "nltk.download('stopwords')\n",
        "stopwords = nltk.corpus.stopwords.words(\"english\")\n",
        "\n",
        "other_exclusions = [\"#ff\", \"ff\", \"rt\"]\n",
        "stopwords.extend(other_exclusions)\n",
        "\n",
        "stemmer = PorterStemmer()\n",
        "\n",
        "\n",
        "def preprocess(text_string):\n",
        "    \"\"\"\n",
        "    Accepts a text string and replaces:\n",
        "    1) urls with URLHERE\n",
        "    2) lots of whitespace with one instance\n",
        "    3) mentions with MENTIONHERE\n",
        "\n",
        "    This allows us to get standardized counts of urls and mentions\n",
        "    Without caring about specific people mentioned\n",
        "    \"\"\"\n",
        "    space_pattern = '\\s+'\n",
        "    giant_url_regex = ('http[s]?://(?:[a-zA-Z]|[0-9]|[$-_@.&+]|'\n",
        "        '[!*\\(\\),]|(?:%[0-9a-fA-F][0-9a-fA-F]))+')\n",
        "    mention_regex = '@[\\w\\-]+'\n",
        "    parsed_text = re.sub(space_pattern, ' ', text_string)\n",
        "    parsed_text = re.sub(giant_url_regex, '', parsed_text)\n",
        "    parsed_text = re.sub(mention_regex, '', parsed_text)\n",
        "    return parsed_text\n",
        "\n",
        "def tokenize(tweet):\n",
        "    \"\"\"Removes punctuation & excess whitespace, sets to lowercase,\n",
        "    and stems tweets. Returns a list of stemmed tokens.\"\"\"\n",
        "    tweet = \" \".join(re.split(\"[^a-zA-Z]*\", tweet.lower())).strip()\n",
        "    tokens = [stemmer.stem(t) for t in tweet.split()]\n",
        "    return tokens\n",
        "\n",
        "def basic_tokenize(tweet):\n",
        "    \"\"\"Same as tokenize but without the stemming\"\"\"\n",
        "    tweet = \" \".join(re.split(\"[^a-zA-Z.,!?]*\", tweet.lower())).strip()\n",
        "    return tweet.split()\n",
        "\n",
        "vectorizer = TfidfVectorizer(\n",
        "    tokenizer=tokenize,\n",
        "    preprocessor=preprocess,\n",
        "    ngram_range=(1, 3),\n",
        "    stop_words=stopwords,\n",
        "    use_idf=True,\n",
        "    smooth_idf=False,\n",
        "    norm=None,\n",
        "    decode_error='replace',\n",
        "    max_features=10000,\n",
        "    min_df=5,\n",
        "    max_df=0.75\n",
        "    )"
      ]
    },
    {
      "cell_type": "code",
      "execution_count": 132,
      "metadata": {
        "deletable": true,
        "editable": true,
        "id": "3ciSa7cILLOQ",
        "colab": {
          "base_uri": "https://localhost:8080/"
        },
        "outputId": "042b90f2-11ef-4cfa-e774-f7d7073c5326"
      },
      "outputs": [
        {
          "output_type": "stream",
          "name": "stderr",
          "text": [
            "/usr/local/lib/python3.7/dist-packages/sklearn/feature_extraction/text.py:401: UserWarning: Your stop_words may be inconsistent with your preprocessing. Tokenizing the stop words generated tokens ['b', 'c', 'e', 'f', 'g', 'h', 'j', 'l', 'n', 'p', 'r', 'u', 'v', 'w'] not in stop_words.\n",
            "  % sorted(inconsistent)\n"
          ]
        }
      ],
      "source": [
        "#Construct tfidf matrix and get relevant scores\n",
        "tfidf = vectorizer.fit_transform(tweets).toarray()\n",
        "vocab = {v:i for i, v in enumerate(vectorizer.get_feature_names_out())}\n",
        "idf_vals = vectorizer.idf_\n",
        "idf_dict = {i:idf_vals[i] for i in vocab.values()} #keys are indices; values are IDF scores"
      ]
    },
    {
      "cell_type": "code",
      "execution_count": 133,
      "metadata": {
        "deletable": true,
        "editable": true,
        "id": "yB8bQvC8LLOQ",
        "colab": {
          "base_uri": "https://localhost:8080/"
        },
        "outputId": "c61b8e0e-6ca3-43d9-8ec8-b960f452c472"
      },
      "outputs": [
        {
          "output_type": "stream",
          "name": "stdout",
          "text": [
            "[nltk_data] Downloading package averaged_perceptron_tagger to\n",
            "[nltk_data]     /root/nltk_data...\n",
            "[nltk_data]   Package averaged_perceptron_tagger is already up-to-\n",
            "[nltk_data]       date!\n"
          ]
        }
      ],
      "source": [
        "nltk.download('averaged_perceptron_tagger')\n",
        "#Get POS tags for tweets and save as a string\n",
        "tweet_tags = []\n",
        "for t in tweets:\n",
        "    tokens = basic_tokenize(preprocess(t))\n",
        "    tags = nltk.pos_tag(tokens)\n",
        "    tag_list = [x[1] for x in tags]\n",
        "    tag_str = \" \".join(tag_list)\n",
        "    tweet_tags.append(tag_str)"
      ]
    },
    {
      "cell_type": "code",
      "execution_count": 134,
      "metadata": {
        "collapsed": true,
        "deletable": true,
        "editable": true,
        "id": "uv4S9kgTLLOR"
      },
      "outputs": [],
      "source": [
        "#We can use the TFIDF vectorizer to get a token matrix for the POS tags\n",
        "pos_vectorizer = TfidfVectorizer(\n",
        "    tokenizer=None,\n",
        "    lowercase=False,\n",
        "    preprocessor=None,\n",
        "    ngram_range=(1, 3),\n",
        "    stop_words=None,\n",
        "    use_idf=False,\n",
        "    smooth_idf=False,\n",
        "    norm=None,\n",
        "    decode_error='replace',\n",
        "    max_features=5000,\n",
        "    min_df=5,\n",
        "    max_df=0.75,\n",
        "    )"
      ]
    },
    {
      "cell_type": "code",
      "execution_count": 135,
      "metadata": {
        "collapsed": true,
        "deletable": true,
        "editable": true,
        "id": "nIgc3oc_LLOR"
      },
      "outputs": [],
      "source": [
        "#Construct POS TF matrix and get vocab dict\n",
        "pos = pos_vectorizer.fit_transform(pd.Series(tweet_tags)).toarray()\n",
        "pos_vocab = {v:i for i, v in enumerate(pos_vectorizer.get_feature_names_out())}"
      ]
    },
    {
      "cell_type": "code",
      "execution_count": 136,
      "metadata": {
        "collapsed": true,
        "deletable": true,
        "editable": true,
        "id": "s-x-KmYQLLOS"
      },
      "outputs": [],
      "source": [
        "#Now get other features\n",
        "sentiment_analyzer = VS()\n",
        "\n",
        "def count_twitter_objs(text_string):\n",
        "    \"\"\"\n",
        "    Accepts a text string and replaces:\n",
        "    1) urls with URLHERE\n",
        "    2) lots of whitespace with one instance\n",
        "    3) mentions with MENTIONHERE\n",
        "    4) hashtags with HASHTAGHERE\n",
        "\n",
        "    This allows us to get standardized counts of urls and mentions\n",
        "    Without caring about specific people mentioned.\n",
        "    \n",
        "    Returns counts of urls, mentions, and hashtags.\n",
        "    \"\"\"\n",
        "    space_pattern = '\\s+'\n",
        "    giant_url_regex = ('http[s]?://(?:[a-zA-Z]|[0-9]|[$-_@.&+]|'\n",
        "        '[!*\\(\\),]|(?:%[0-9a-fA-F][0-9a-fA-F]))+')\n",
        "    mention_regex = '@[\\w\\-]+'\n",
        "    hashtag_regex = '#[\\w\\-]+'\n",
        "    parsed_text = re.sub(space_pattern, ' ', text_string)\n",
        "    parsed_text = re.sub(giant_url_regex, 'URLHERE', parsed_text)\n",
        "    parsed_text = re.sub(mention_regex, 'MENTIONHERE', parsed_text)\n",
        "    parsed_text = re.sub(hashtag_regex, 'HASHTAGHERE', parsed_text)\n",
        "    return(parsed_text.count('URLHERE'),parsed_text.count('MENTIONHERE'),parsed_text.count('HASHTAGHERE'))\n",
        "\n",
        "def other_features(tweet):\n",
        "    \"\"\"This function takes a string and returns a list of features.\n",
        "    These include Sentiment scores, Text and Readability scores,\n",
        "    as well as Twitter specific features\"\"\"\n",
        "    sentiment = sentiment_analyzer.polarity_scores(tweet)\n",
        "    \n",
        "    words = preprocess(tweet) #Get text only\n",
        "    \n",
        "    syllables = textstat.syllable_count(words)\n",
        "    num_chars = sum(len(w) for w in words)\n",
        "    num_chars_total = len(tweet)\n",
        "    num_terms = len(tweet.split())\n",
        "    num_words = len(words.split())\n",
        "    avg_syl = round(float((syllables+0.001))/float(num_words+0.001),4)\n",
        "    num_unique_terms = len(set(words.split()))\n",
        "    \n",
        "    ###Modified FK grade, where avg words per sentence is just num words/1\n",
        "    FKRA = round(float(0.39 * float(num_words)/1.0) + float(11.8 * avg_syl) - 15.59,1)\n",
        "    ##Modified FRE score, where sentence fixed to 1\n",
        "    FRE = round(206.835 - 1.015*(float(num_words)/1.0) - (84.6*float(avg_syl)),2)\n",
        "    \n",
        "    twitter_objs = count_twitter_objs(tweet)\n",
        "    retweet = 0\n",
        "    if \"rt\" in words:\n",
        "        retweet = 1\n",
        "    features = [FKRA, FRE,syllables, avg_syl, num_chars, num_chars_total, num_terms, num_words,\n",
        "                num_unique_terms, sentiment['neg'], sentiment['pos'], sentiment['neu'], sentiment['compound'],\n",
        "                twitter_objs[2], twitter_objs[1],\n",
        "                twitter_objs[0], retweet]\n",
        "    #features = pandas.DataFrame(features)\n",
        "    return features\n",
        "\n",
        "def get_feature_array(tweets):\n",
        "    feats=[]\n",
        "    for t in tweets:\n",
        "        feats.append(other_features(t))\n",
        "    return np.array(feats)"
      ]
    },
    {
      "cell_type": "code",
      "execution_count": 137,
      "metadata": {
        "collapsed": true,
        "deletable": true,
        "editable": true,
        "id": "J_Yx4wXPLLOS"
      },
      "outputs": [],
      "source": [
        "other_features_names = [\"FKRA\", \"FRE\",\"num_syllables\", \"avg_syl_per_word\", \"num_chars\", \"num_chars_total\", \\\n",
        "                        \"num_terms\", \"num_words\", \"num_unique_words\", \"vader neg\",\"vader pos\",\"vader neu\", \\\n",
        "                        \"vader compound\", \"num_hashtags\", \"num_mentions\", \"num_urls\", \"is_retweet\"]"
      ]
    },
    {
      "cell_type": "code",
      "execution_count": 138,
      "metadata": {
        "deletable": true,
        "editable": true,
        "id": "ov78PfltLLOT"
      },
      "outputs": [],
      "source": [
        "feats = get_feature_array(tweets)"
      ]
    },
    {
      "cell_type": "code",
      "execution_count": 139,
      "metadata": {
        "collapsed": true,
        "deletable": true,
        "editable": true,
        "id": "sVht_1gaLLOT"
      },
      "outputs": [],
      "source": [
        "#Now join them all up\n",
        "M = np.concatenate([tfidf,pos,feats],axis=1)"
      ]
    },
    {
      "cell_type": "code",
      "execution_count": 140,
      "metadata": {
        "deletable": true,
        "editable": true,
        "id": "wKJPahrqLLOT",
        "outputId": "8ae00830-c16b-4325-a399-c0c0766ee8b7",
        "colab": {
          "base_uri": "https://localhost:8080/"
        }
      },
      "outputs": [
        {
          "output_type": "execute_result",
          "data": {
            "text/plain": [
              "(24783, 4023)"
            ]
          },
          "metadata": {},
          "execution_count": 140
        }
      ],
      "source": [
        "M.shape"
      ]
    },
    {
      "cell_type": "code",
      "execution_count": 141,
      "metadata": {
        "deletable": true,
        "editable": true,
        "id": "i1_DUoEbLLOU"
      },
      "outputs": [],
      "source": [
        "#Finally get a list of variable names\n",
        "variables = ['']*len(vocab)\n",
        "for k,v in vocab.items():\n",
        "    variables[v] = k\n",
        "\n",
        "pos_variables = ['']*len(pos_vocab)\n",
        "for k,v in pos_vocab.items():\n",
        "    pos_variables[v] = k\n",
        "\n",
        "feature_names = variables+pos_variables+other_features_names"
      ]
    },
    {
      "cell_type": "markdown",
      "metadata": {
        "deletable": true,
        "editable": true,
        "id": "qmRY5E7NLLOU"
      },
      "source": [
        "# Running the model"
      ]
    },
    {
      "cell_type": "code",
      "execution_count": 142,
      "metadata": {
        "collapsed": true,
        "deletable": true,
        "editable": true,
        "id": "UFOwkOMQLLOV"
      },
      "outputs": [],
      "source": [
        "X = pd.DataFrame(M)\n",
        "y = df['class'].astype(int)"
      ]
    },
    {
      "cell_type": "code",
      "source": [
        "feature_transformer = SelectFromModel(LogisticRegression(class_weight='balanced',penalty=\"l1\", C=0.01, solver='liblinear'))\n",
        "\n",
        "X_ = feature_transformer.fit_transform(X,y)"
      ],
      "metadata": {
        "id": "7MtWbgBv-Hy4"
      },
      "execution_count": 143,
      "outputs": []
    },
    {
      "cell_type": "code",
      "source": [
        "X_.shape"
      ],
      "metadata": {
        "colab": {
          "base_uri": "https://localhost:8080/"
        },
        "id": "vidLby2bM3qO",
        "outputId": "2913d12e-4bbf-4a7c-be22-d50cab5e7283"
      },
      "execution_count": 144,
      "outputs": [
        {
          "output_type": "execute_result",
          "data": {
            "text/plain": [
              "(24783, 466)"
            ]
          },
          "metadata": {},
          "execution_count": 144
        }
      ]
    },
    {
      "cell_type": "code",
      "source": [
        "classifier = LogisticRegression(class_weight='balanced',penalty='l2', C=0.01, solver='liblinear')"
      ],
      "metadata": {
        "id": "pvrfVFjoWAlt"
      },
      "execution_count": 145,
      "outputs": []
    },
    {
      "cell_type": "code",
      "source": [
        "model = classifier.fit(X_, y)"
      ],
      "metadata": {
        "id": "popozOSPgSTm"
      },
      "execution_count": 146,
      "outputs": []
    },
    {
      "cell_type": "code",
      "execution_count": 147,
      "metadata": {
        "deletable": true,
        "editable": true,
        "id": "QCpkWAWRLLOW"
      },
      "outputs": [],
      "source": [
        "y_preds = model.predict(X_)"
      ]
    },
    {
      "cell_type": "markdown",
      "metadata": {
        "deletable": true,
        "editable": true,
        "id": "xIaJSdpALLOW"
      },
      "source": [
        "## Evaluating the results"
      ]
    },
    {
      "cell_type": "code",
      "execution_count": 148,
      "metadata": {
        "deletable": true,
        "editable": true,
        "id": "JVR1H_vMLLOW"
      },
      "outputs": [],
      "source": [
        "report = classification_report( y, y_preds )"
      ]
    },
    {
      "cell_type": "code",
      "execution_count": 149,
      "metadata": {
        "deletable": true,
        "editable": true,
        "id": "0_W-j3E_LLOW",
        "outputId": "36ff80c7-e55d-4567-a5a3-8cc9983fdf61",
        "colab": {
          "base_uri": "https://localhost:8080/"
        }
      },
      "outputs": [
        {
          "output_type": "stream",
          "name": "stdout",
          "text": [
            "              precision    recall  f1-score   support\n",
            "\n",
            "           0       0.42      0.54      0.47      1430\n",
            "           1       0.94      0.89      0.91     19190\n",
            "           2       0.71      0.84      0.77      4163\n",
            "\n",
            "    accuracy                           0.86     24783\n",
            "   macro avg       0.69      0.75      0.72     24783\n",
            "weighted avg       0.87      0.86      0.86     24783\n",
            "\n"
          ]
        }
      ],
      "source": [
        "print(report)"
      ]
    },
    {
      "cell_type": "code",
      "execution_count": 150,
      "metadata": {
        "deletable": true,
        "editable": true,
        "id": "2iA7YFi7LLOX",
        "outputId": "2e44cbf2-24e4-4370-dd45-d68e15d2c5e2",
        "colab": {
          "base_uri": "https://localhost:8080/",
          "height": 341
        }
      },
      "outputs": [
        {
          "output_type": "display_data",
          "data": {
            "image/png": "[encoded data removed]",
            "text/plain": [
              "<Figure size 360x360 with 1 Axes>"
            ]
          },
          "metadata": {
            "needs_background": "light"
          }
        }
      ],
      "source": [
        "confusion_matrix = confusion_matrix(y,y_preds)\n",
        "matrix_proportions = np.zeros((3,3))\n",
        "for i in range(0,3):\n",
        "    matrix_proportions[i,:] = confusion_matrix[i,:]/float(confusion_matrix[i,:].sum())\n",
        "names=['Hate','Offensive','Neither']\n",
        "confusion_df = pd.DataFrame(matrix_proportions, index=names,columns=names)\n",
        "plt.figure(figsize=(5,5))\n",
        "seaborn.heatmap(confusion_df,annot=True,annot_kws={\"size\": 12},cmap='gist_gray_r',cbar=False, square=True,fmt='.2f')\n",
        "plt.ylabel(r'True categories',fontsize=14)\n",
        "plt.xlabel(r'Predicted categories',fontsize=14)\n",
        "plt.tick_params(labelsize=12)\n",
        "\n",
        "#Uncomment line below if you want to save the output\n",
        "#plt.savefig('confusion.pdf')"
      ]
    },
    {
      "cell_type": "code",
      "execution_count": 151,
      "metadata": {
        "deletable": true,
        "editable": true,
        "id": "h__-bLleLLOY",
        "colab": {
          "base_uri": "https://localhost:8080/",
          "height": 283
        },
        "outputId": "39b9fda4-124d-4237-be16-da5fa8c0fbc0"
      },
      "outputs": [
        {
          "output_type": "execute_result",
          "data": {
            "text/plain": [
              "<matplotlib.axes._subplots.AxesSubplot at 0x7fcdd84bf410>"
            ]
          },
          "metadata": {},
          "execution_count": 151
        },
        {
          "output_type": "display_data",
          "data": {
            "image/png": "[encoded data removed]",
            "text/plain": [
              "<Figure size 432x288 with 1 Axes>"
            ]
          },
          "metadata": {
            "needs_background": "light"
          }
        }
      ],
      "source": [
        "#Distribution of estimates\n",
        "pd.Series(y_preds).hist()"
      ]
    },
    {
      "cell_type": "code",
      "execution_count": 152,
      "metadata": {
        "deletable": true,
        "editable": true,
        "id": "1U3oiWCGLLOX",
        "colab": {
          "base_uri": "https://localhost:8080/",
          "height": 286
        },
        "outputId": "7df0cba4-b474-4d90-fcb0-41e4847e0104"
      },
      "outputs": [
        {
          "output_type": "execute_result",
          "data": {
            "text/plain": [
              "<matplotlib.axes._subplots.AxesSubplot at 0x7fcdd848e610>"
            ]
          },
          "metadata": {},
          "execution_count": 152
        },
        {
          "output_type": "display_data",
          "data": {
            "image/png": "[encoded data removed]",
            "text/plain": [
              "<Figure size 432x288 with 1 Axes>"
            ]
          },
          "metadata": {
            "needs_background": "light"
          }
        }
      ],
      "source": [
        "#True distribution\n",
        "y.hist()"
      ]
    },
    {
      "cell_type": "markdown",
      "source": [
        "# Federating The Model"
      ],
      "metadata": {
        "id": "a4MJch1pgPOv"
      }
    },
    {
      "cell_type": "markdown",
      "source": [
        "Single-machine simulation of a federated learning system using Flower"
      ],
      "metadata": {
        "id": "CdPkqZBMDV_p"
      }
    },
    {
      "cell_type": "markdown",
      "source": [
        "## Utility Functions"
      ],
      "metadata": {
        "id": "ne1N9RZuiwiE"
      }
    },
    {
      "cell_type": "code",
      "source": [
        "XY = Tuple[np.ndarray, np.ndarray]\n",
        "Dataset = Tuple[XY, XY]\n",
        "LogRegParams = Union[XY, Tuple[np.ndarray]]\n",
        "XYList = List[XY]\n",
        "\n",
        "\n",
        "def get_model_parameters(model: LogisticRegression) -> LogRegParams:\n",
        "#Returns the paramters of a sklearn LogisticRegression model.\n",
        "    if model.fit_intercept:\n",
        "        params = (model.coef_, model.intercept_)\n",
        "    else:\n",
        "        params = (model.coef_,)\n",
        "    return params\n",
        "\n",
        "\n",
        "def set_model_params(\n",
        "    model: LogisticRegression, params: LogRegParams\n",
        ") -> LogisticRegression:\n",
        "#Sets the parameters of a sklean LogisticRegression model.\n",
        "    model.coef_ = params[0]\n",
        "    if model.fit_intercept:\n",
        "        model.intercept_ = params[1]\n",
        "    return model\n",
        "\n",
        "\n",
        "def set_initial_params(model: LogisticRegression):\n",
        "#Sets initial parameters as zeros Required since model params are\n",
        "#uninitialized until model.fit is called.\n",
        "#But server asks for initial parameters from clients at launch. Refer\n",
        "#to sklearn.linear_model.LogisticRegression documentation for more\n",
        "#information.\n",
        "\n",
        "    n_classes = 3  # our dataset has 3 classes\n",
        "    n_features = 466  # Number of features in dataset after feature selection by transformer\n",
        "    model.classes_ = np.array([i for i in range(n_classes)])\n",
        "\n",
        "    model.coef_ = np.zeros((n_classes, n_features))\n",
        "    if model.fit_intercept:\n",
        "        model.intercept_ = np.zeros((n_classes,))\n",
        "\n",
        "def load_dataset() -> Dataset:\n",
        "    X_train, X_test, y_train, y_test = train_test_split(X, y, test_size=0.1)\n",
        "    return (X_train, y_train), (X_test, y_test)\n",
        "\n",
        "def partition(X: np.ndarray, y: np.ndarray, num_partitions: int) -> XYList:\n",
        "# Split X and y into a number of partitions.\n",
        "    return list(\n",
        "        zip(np.array_split(X, num_partitions), np.array_split(y, num_partitions))\n",
        "    )"
      ],
      "metadata": {
        "id": "8KXr8FmTgNrM"
      },
      "execution_count": 153,
      "outputs": []
    },
    {
      "cell_type": "markdown",
      "source": [
        "## Server API"
      ],
      "metadata": {
        "id": "Ngfm4O3Bj_7-"
      }
    },
    {
      "cell_type": "code",
      "source": [
        "def fit_round(rnd: int) -> Dict:\n",
        "    \"\"\"Send round number to client.\"\"\"\n",
        "    return {\"rnd\": rnd}\n",
        "\n",
        "\n",
        "def get_eval_fn(model: LogisticRegression):\n",
        "    \"\"\"Return an evaluation function for server-side evaluation.\"\"\"\n",
        "\n",
        "    # Load test data here to avoid the overhead of doing it in `evaluate` itself\n",
        "    _, (X_test, y_test) = load_dataset()\n",
        "\n",
        "    # Select features\n",
        "    X_test_ = feature_transformer.transform(X_test)\n",
        "\n",
        "    # The `evaluate` function will be called after every round\n",
        "    def evaluate(parameters: fl.common.Weights):\n",
        "        # Update model with the latest parameters\n",
        "        set_model_params(model, parameters)\n",
        "        loss = log_loss(y_test, model.predict_proba(X_test_))\n",
        "        accuracy = model.score(X_test_, y_test)\n",
        "        return loss, {\"accuracy\": accuracy}\n",
        "\n",
        "    return evaluate"
      ],
      "metadata": {
        "id": "kUGPEvkTkL2M"
      },
      "execution_count": 154,
      "outputs": []
    },
    {
      "cell_type": "code",
      "source": [
        "def start_flower_server():\n",
        "  print('module name:', __name__)\n",
        "  print('parent process:', os.getppid())\n",
        "  print('process id:', os.getpid())\n",
        "\n",
        "  model = LogisticRegression()\n",
        "  set_initial_params(model)\n",
        "  strategy = fl.server.strategy.FedAvg(\n",
        "        min_available_clients=2,\n",
        "        eval_fn=get_eval_fn(model),\n",
        "        on_fit_config_fn=fit_round,\n",
        "  )\n",
        "  fl.server.start_server(\"0.0.0.0:80\", strategy=strategy, config={\"num_rounds\": 5})"
      ],
      "metadata": {
        "id": "yMirYHyIbfo5"
      },
      "execution_count": 155,
      "outputs": []
    },
    {
      "cell_type": "markdown",
      "source": [
        "## Client API"
      ],
      "metadata": {
        "id": "txBxYsxvsQ_2"
      }
    },
    {
      "cell_type": "code",
      "source": [
        "def start_flower_client(X_train_: np.ndarray, y_train: np.ndarray, X_test_: np.ndarray, y_test: np.ndarray):\n",
        "  print('module name:', __name__)\n",
        "  print('parent process:', os.getppid())\n",
        "  print('process id:', os.getpid())\n",
        "\n",
        "  # Create LogisticRegression Model\n",
        "  # max_iter: local epoch, warm_start: prevent refreshing weights when fitting\n",
        "  model = LogisticRegression(penalty='l2', max_iter=1, warm_start=True, class_weight='balanced', C=0.01, multi_class='ovr') \n",
        "\n",
        "  # Setting initial parameters, akin to model.compile for keras models\n",
        "  set_initial_params(model)\n",
        "\n",
        "  # Define Flower client\n",
        "  class MnistClient(fl.client.NumPyClient):\n",
        "    def get_parameters(self): # type: ignore\n",
        "      return get_model_parameters(model)\n",
        "\n",
        "    def fit(self, parameters, config):  # type: ignore\n",
        "      set_model_params(model, parameters)\n",
        "      # Ignore convergence failure due to low local epochs\n",
        "      with warnings.catch_warnings():\n",
        "          warnings.simplefilter(\"ignore\")\n",
        "          model.fit(X_train_, y_train)\n",
        "      print(f\"Training finished for round {config['rnd']}\")\n",
        "      return get_model_parameters(model), len(X_train_), {}\n",
        "\n",
        "    def evaluate(self, parameters, config):  # type: ignore\n",
        "      set_model_params(model, parameters)\n",
        "      loss = log_loss(y_test, model.predict_proba(X_test_))\n",
        "      accuracy = model.score(X_test_, y_test)\n",
        "      return loss, len(X_test_), {\"accuracy\": accuracy}\n",
        "\n",
        "  # Start Flower client\n",
        "  fl.client.start_numpy_client(\"0.0.0.0:80\", client=MnistClient())"
      ],
      "metadata": {
        "id": "pi5hoX8kwx5q"
      },
      "execution_count": 156,
      "outputs": []
    },
    {
      "cell_type": "code",
      "source": [
        "def start_flower_clients(number_of_clients):\n",
        "  # Load dataset\n",
        "  (X_train, y_train), (X_test, y_test) = load_dataset()\n",
        "\n",
        "  # Select features\n",
        "  X_train_ = feature_transformer.transform(X_train)\n",
        "  X_test_ = feature_transformer.transform(X_test)\n",
        "\n",
        "  # Split train set into number_of_clients partitions.\n",
        "  partitioned_train_set = partition(X_train_, y_train, number_of_clients)\n",
        "\n",
        "  for i in range(number_of_clients):\n",
        "    (X_train_partition, y_train_partition) = partitioned_train_set[i]\n",
        "    p = mp.Process(target=start_flower_client, args=(X_train_partition, y_train_partition, X_test_, y_test))\n",
        "    p.start()\n"
      ],
      "metadata": {
        "id": "tUlNc4ezzRT-"
      },
      "execution_count": 157,
      "outputs": []
    },
    {
      "cell_type": "code",
      "execution_count": 158,
      "metadata": {
        "id": "7XnkpjiHq5lo",
        "colab": {
          "base_uri": "https://localhost:8080/"
        },
        "outputId": "174dc42c-2291-4112-dc66-3d451ac4b0f3"
      },
      "outputs": [
        {
          "output_type": "stream",
          "name": "stdout",
          "text": [
            "module name: __main__\n",
            "parent process: 61\n",
            "process id: 2865\n"
          ]
        },
        {
          "output_type": "stream",
          "name": "stderr",
          "text": [
            "INFO flower 2021-12-17 01:45:08,310 | app.py:80 | Flower server running (insecure, 5 rounds)\n",
            "INFO flower 2021-12-17 01:45:08,315 | server.py:118 | Initializing global parameters\n",
            "INFO flower 2021-12-17 01:45:08,319 | server.py:304 | Requesting initial parameters from one random client\n"
          ]
        },
        {
          "output_type": "stream",
          "name": "stdout",
          "text": [
            "module name: __main__\n",
            "module name: __main__\n",
            "parent process: 61\n",
            "parent process: 61\n",
            "process id: 2884\n",
            "process id: 2887\n"
          ]
        },
        {
          "output_type": "stream",
          "name": "stderr",
          "text": [
            "DEBUG flower 2021-12-17 01:45:08,803 | connection.py:36 | ChannelConnectivity.IDLE\n",
            "DEBUG flower 2021-12-17 01:45:08,807 | connection.py:36 | ChannelConnectivity.IDLE\n",
            "DEBUG flower 2021-12-17 01:45:08,821 | connection.py:36 | ChannelConnectivity.READY\n",
            "DEBUG flower 2021-12-17 01:45:08,827 | connection.py:36 | ChannelConnectivity.READY\n",
            "INFO flower 2021-12-17 01:45:08,810 | app.py:61 | Opened (insecure) gRPC connection\n",
            "INFO flower 2021-12-17 01:45:08,819 | app.py:61 | Opened (insecure) gRPC connection\n",
            "INFO flower 2021-12-17 01:45:08,846 | server.py:307 | Received initial parameters from one random client\n",
            "INFO flower 2021-12-17 01:45:08,850 | server.py:120 | Evaluating initial parameters\n",
            "INFO flower 2021-12-17 01:45:08,893 | server.py:127 | initial parameters (loss, other metrics): 1.0986122886681096, {'accuracy': 0.06212182331585317}\n",
            "INFO flower 2021-12-17 01:45:08,900 | server.py:133 | FL starting\n",
            "DEBUG flower 2021-12-17 01:45:08,908 | server.py:255 | fit_round: strategy sampled 2 clients (out of 2)\n"
          ]
        },
        {
          "output_type": "stream",
          "name": "stdout",
          "text": [
            "Training finished for round 1\n",
            "Training finished for round 1\n"
          ]
        },
        {
          "output_type": "stream",
          "name": "stderr",
          "text": [
            "DEBUG flower 2021-12-17 01:45:09,551 | server.py:264 | fit_round received 2 results and 0 failures\n",
            "INFO flower 2021-12-17 01:45:09,593 | server.py:154 | fit progress: (1, 1.1597132852747434, {'accuracy': 0.3892698668818072}, 0.6849718350003968)\n",
            "INFO flower 2021-12-17 01:45:09,604 | server.py:199 | evaluate_round: no clients selected, cancel\n",
            "DEBUG flower 2021-12-17 01:45:09,611 | server.py:255 | fit_round: strategy sampled 2 clients (out of 2)\n"
          ]
        },
        {
          "output_type": "stream",
          "name": "stdout",
          "text": [
            "Training finished for round 2\n",
            "Training finished for round 2\n"
          ]
        },
        {
          "output_type": "stream",
          "name": "stderr",
          "text": [
            "DEBUG flower 2021-12-17 01:45:09,972 | server.py:264 | fit_round received 2 results and 0 failures\n",
            "INFO flower 2021-12-17 01:45:10,027 | server.py:154 | fit progress: (2, 1.0509363461518098, {'accuracy': 0.573215006050827}, 1.1192731680002908)\n",
            "INFO flower 2021-12-17 01:45:10,036 | server.py:199 | evaluate_round: no clients selected, cancel\n",
            "DEBUG flower 2021-12-17 01:45:10,044 | server.py:255 | fit_round: strategy sampled 2 clients (out of 2)\n"
          ]
        },
        {
          "output_type": "stream",
          "name": "stdout",
          "text": [
            "Training finished for round 3\n",
            "Training finished for round 3\n"
          ]
        },
        {
          "output_type": "stream",
          "name": "stderr",
          "text": [
            "DEBUG flower 2021-12-17 01:45:10,427 | server.py:264 | fit_round received 2 results and 0 failures\n",
            "INFO flower 2021-12-17 01:45:10,472 | server.py:154 | fit progress: (3, 1.0142053532027944, {'accuracy': 0.5623235175473982}, 1.5641064009996626)\n",
            "INFO flower 2021-12-17 01:45:10,487 | server.py:199 | evaluate_round: no clients selected, cancel\n",
            "DEBUG flower 2021-12-17 01:45:10,494 | server.py:255 | fit_round: strategy sampled 2 clients (out of 2)\n"
          ]
        },
        {
          "output_type": "stream",
          "name": "stdout",
          "text": [
            "Training finished for round 4\n",
            "Training finished for round 4\n"
          ]
        },
        {
          "output_type": "stream",
          "name": "stderr",
          "text": [
            "DEBUG flower 2021-12-17 01:45:10,910 | server.py:264 | fit_round received 2 results and 0 failures\n",
            "INFO flower 2021-12-17 01:45:10,950 | server.py:154 | fit progress: (4, 1.0262327457460734, {'accuracy': 0.5780556676079064}, 2.042501469999479)\n",
            "INFO flower 2021-12-17 01:45:10,963 | server.py:199 | evaluate_round: no clients selected, cancel\n",
            "DEBUG flower 2021-12-17 01:45:10,967 | server.py:255 | fit_round: strategy sampled 2 clients (out of 2)\n"
          ]
        },
        {
          "output_type": "stream",
          "name": "stdout",
          "text": [
            "Training finished for round 5\n",
            "Training finished for round 5\n"
          ]
        },
        {
          "output_type": "stream",
          "name": "stderr",
          "text": [
            "DEBUG flower 2021-12-17 01:45:11,334 | server.py:264 | fit_round received 2 results and 0 failures\n",
            "INFO flower 2021-12-17 01:45:11,376 | server.py:154 | fit progress: (5, 0.99276274658513, {'accuracy': 0.6127470754336426}, 2.4682110489993647)\n",
            "INFO flower 2021-12-17 01:45:11,387 | server.py:199 | evaluate_round: no clients selected, cancel\n",
            "INFO flower 2021-12-17 01:45:11,396 | server.py:172 | FL finished in 2.488474937999854\n",
            "INFO flower 2021-12-17 01:45:11,406 | app.py:119 | app_fit: losses_distributed []\n",
            "INFO flower 2021-12-17 01:45:11,413 | app.py:120 | app_fit: metrics_distributed {}\n",
            "INFO flower 2021-12-17 01:45:11,419 | app.py:121 | app_fit: losses_centralized [(0, 1.0986122886681096), (1, 1.1597132852747434), (2, 1.0509363461518098), (3, 1.0142053532027944), (4, 1.0262327457460734), (5, 0.99276274658513)]\n",
            "INFO flower 2021-12-17 01:45:11,425 | app.py:122 | app_fit: metrics_centralized {'accuracy': [(0, 0.06212182331585317), (1, 0.3892698668818072), (2, 0.573215006050827), (3, 0.5623235175473982), (4, 0.5780556676079064), (5, 0.6127470754336426)]}\n",
            "DEBUG flower 2021-12-17 01:45:11,438 | connection.py:68 | Insecure gRPC channel closed\n",
            "DEBUG flower 2021-12-17 01:45:11,445 | connection.py:68 | Insecure gRPC channel closed\n",
            "INFO flower 2021-12-17 01:45:11,451 | app.py:72 | Disconnect and shut down\n",
            "INFO flower 2021-12-17 01:45:11,465 | app.py:72 | Disconnect and shut down\n"
          ]
        }
      ],
      "source": [
        "# Start Flower server for five rounds of federated learning\n",
        "server = mp.Process(target=start_flower_server)\n",
        "server.start()\n",
        "\n",
        "# Start 2 Flower clients to participate\n",
        "start_flower_clients(2)\n",
        "\n",
        "# Wait for rounds of federated learning to finish\n",
        "server.join()"
      ]
    }
  ],
  "metadata": {
    "kernelspec": {
      "display_name": "Python 3",
      "name": "python3"
    },
    "language_info": {
      "name": "python"
    },
    "colab": {
      "name": "Federated-Detection-Of-Hate-Speech.ipynb",
      "provenance": [],
      "collapsed_sections": []
    }
  },
  "nbformat": 4,
  "nbformat_minor": 0
}