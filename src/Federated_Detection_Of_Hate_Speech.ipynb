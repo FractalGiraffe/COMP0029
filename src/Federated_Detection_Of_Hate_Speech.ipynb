{
  "cells": [
    {
      "cell_type": "markdown",
      "source": [
        "## Install project dependencies"
      ],
      "metadata": {
        "id": "hH_AXG4tBXY9"
      }
    },
    {
      "cell_type": "code",
      "source": [
        "!pip install vaderSentiment\n",
        "!pip install textstat\n",
        "!pip install flwr"
      ],
      "metadata": {
        "colab": {
          "base_uri": "https://localhost:8080/"
        },
        "id": "06McKulLLqQf",
        "outputId": "7b870e50-1230-4cf5-f478-28a1bd32ff71"
      },
      "execution_count": 1,
      "outputs": [
        {
          "output_type": "stream",
          "name": "stdout",
          "text": [
            "Collecting vaderSentiment\n",
            "  Downloading vaderSentiment-3.3.2-py2.py3-none-any.whl (125 kB)\n",
            "\u001b[?25l\r\u001b[K     |██▋                             | 10 kB 21.6 MB/s eta 0:00:01\r\u001b[K     |█████▏                          | 20 kB 9.4 MB/s eta 0:00:01\r\u001b[K     |███████▉                        | 30 kB 7.7 MB/s eta 0:00:01\r\u001b[K     |██████████▍                     | 40 kB 7.2 MB/s eta 0:00:01\r\u001b[K     |█████████████                   | 51 kB 4.4 MB/s eta 0:00:01\r\u001b[K     |███████████████▋                | 61 kB 4.6 MB/s eta 0:00:01\r\u001b[K     |██████████████████▏             | 71 kB 4.5 MB/s eta 0:00:01\r\u001b[K     |████████████████████▉           | 81 kB 5.0 MB/s eta 0:00:01\r\u001b[K     |███████████████████████▍        | 92 kB 5.4 MB/s eta 0:00:01\r\u001b[K     |██████████████████████████      | 102 kB 4.3 MB/s eta 0:00:01\r\u001b[K     |████████████████████████████▋   | 112 kB 4.3 MB/s eta 0:00:01\r\u001b[K     |███████████████████████████████▏| 122 kB 4.3 MB/s eta 0:00:01\r\u001b[K     |████████████████████████████████| 125 kB 4.3 MB/s \n",
            "\u001b[?25hRequirement already satisfied: requests in /usr/local/lib/python3.7/dist-packages (from vaderSentiment) (2.23.0)\n",
            "Requirement already satisfied: chardet<4,>=3.0.2 in /usr/local/lib/python3.7/dist-packages (from requests->vaderSentiment) (3.0.4)\n",
            "Requirement already satisfied: idna<3,>=2.5 in /usr/local/lib/python3.7/dist-packages (from requests->vaderSentiment) (2.10)\n",
            "Requirement already satisfied: certifi>=2017.4.17 in /usr/local/lib/python3.7/dist-packages (from requests->vaderSentiment) (2021.10.8)\n",
            "Requirement already satisfied: urllib3!=1.25.0,!=1.25.1,<1.26,>=1.21.1 in /usr/local/lib/python3.7/dist-packages (from requests->vaderSentiment) (1.24.3)\n",
            "Installing collected packages: vaderSentiment\n",
            "Successfully installed vaderSentiment-3.3.2\n",
            "Collecting textstat\n",
            "  Downloading textstat-0.7.2-py3-none-any.whl (101 kB)\n",
            "\u001b[K     |████████████████████████████████| 101 kB 3.1 MB/s \n",
            "\u001b[?25hCollecting pyphen\n",
            "  Downloading pyphen-0.12.0-py3-none-any.whl (2.0 MB)\n",
            "\u001b[K     |████████████████████████████████| 2.0 MB 27.7 MB/s \n",
            "\u001b[?25hInstalling collected packages: pyphen, textstat\n",
            "Successfully installed pyphen-0.12.0 textstat-0.7.2\n",
            "Collecting flwr\n",
            "  Downloading flwr-0.17.0-py3-none-any.whl (229 kB)\n",
            "\u001b[K     |████████████████████████████████| 229 kB 4.0 MB/s \n",
            "\u001b[?25hRequirement already satisfied: grpcio<2.0.0,>=1.27.2 in /usr/local/lib/python3.7/dist-packages (from flwr) (1.43.0)\n",
            "Requirement already satisfied: numpy<2.0.0,>=1.19.0 in /usr/local/lib/python3.7/dist-packages (from flwr) (1.19.5)\n",
            "Requirement already satisfied: protobuf<4.0.0,>=3.12.1 in /usr/local/lib/python3.7/dist-packages (from flwr) (3.17.3)\n",
            "Requirement already satisfied: google<3.0.0,>=2.0.3 in /usr/local/lib/python3.7/dist-packages (from flwr) (2.0.3)\n",
            "Requirement already satisfied: beautifulsoup4 in /usr/local/lib/python3.7/dist-packages (from google<3.0.0,>=2.0.3->flwr) (4.6.3)\n",
            "Requirement already satisfied: six>=1.5.2 in /usr/local/lib/python3.7/dist-packages (from grpcio<2.0.0,>=1.27.2->flwr) (1.15.0)\n",
            "Installing collected packages: flwr\n",
            "Successfully installed flwr-0.17.0\n"
          ]
        }
      ]
    },
    {
      "cell_type": "code",
      "execution_count": 88,
      "metadata": {
        "deletable": true,
        "editable": true,
        "id": "mMKXiA0eLLOG"
      },
      "outputs": [],
      "source": [
        "import pandas as pd\n",
        "import numpy as np\n",
        "import pickle\n",
        "import sys\n",
        "import string\n",
        "import re\n",
        "import nltk\n",
        "import matplotlib.pyplot as plt\n",
        "import seaborn\n",
        "import flwr as fl\n",
        "import os\n",
        "import time\n",
        "import warnings\n",
        "import multiprocessing as mp\n",
        "from nltk.stem.porter import *\n",
        "from sklearn.feature_extraction.text import TfidfVectorizer\n",
        "from sklearn.linear_model import LogisticRegression\n",
        "from sklearn.feature_selection import SelectFromModel\n",
        "from sklearn.metrics import classification_report\n",
        "from sklearn.pipeline import make_pipeline\n",
        "from sklearn.metrics import confusion_matrix\n",
        "from sklearn.metrics import log_loss\n",
        "from sklearn.model_selection import train_test_split\n",
        "from vaderSentiment.vaderSentiment import SentimentIntensityAnalyzer as VS\n",
        "from textstat.textstat import *\n",
        "from typing import Tuple, Union, List, Dict\n",
        "from google.colab import drive\n",
        "%matplotlib inline"
      ]
    },
    {
      "cell_type": "markdown",
      "source": [
        "## Mounting external storage"
      ],
      "metadata": {
        "id": "5UmAmOS7BVDk"
      }
    },
    {
      "cell_type": "code",
      "source": [
        "drive.mount('/content/drive')"
      ],
      "metadata": {
        "colab": {
          "base_uri": "https://localhost:8080/"
        },
        "id": "yvAKAU9TLgkO",
        "outputId": "6dfeee68-6b69-4de2-fbb6-17809052ad1e"
      },
      "execution_count": 3,
      "outputs": [
        {
          "output_type": "stream",
          "name": "stdout",
          "text": [
            "Mounted at /content/drive\n"
          ]
        }
      ]
    },
    {
      "cell_type": "markdown",
      "metadata": {
        "deletable": true,
        "editable": true,
        "id": "hwKkn2DTLLOH"
      },
      "source": [
        "## Loading the data"
      ]
    },
    {
      "cell_type": "code",
      "execution_count": 4,
      "metadata": {
        "deletable": true,
        "editable": true,
        "id": "xpVnw4tzLLOI"
      },
      "outputs": [],
      "source": [
        "df = pd.read_pickle(open(\"/content/drive/MyDrive/COMP0029/labeled_data.p\", mode='rb'))"
      ]
    },
    {
      "cell_type": "code",
      "execution_count": 5,
      "metadata": {
        "deletable": true,
        "editable": true,
        "id": "tCg6WZzCLLOI",
        "outputId": "43a70596-83a6-44fc-d73d-b67099a263ce",
        "colab": {
          "base_uri": "https://localhost:8080/",
          "height": 424
        }
      },
      "outputs": [
        {
          "output_type": "execute_result",
          "data": {
            "text/html": [
              "\n",
              "  <div id=\"df-9d274f5c-4f40-4714-b53b-4ebf1771309b\">\n",
              "    <div class=\"colab-df-container\">\n",
              "      <div>\n",
              "<style scoped>\n",
              "    .dataframe tbody tr th:only-of-type {\n",
              "        vertical-align: middle;\n",
              "    }\n",
              "\n",
              "    .dataframe tbody tr th {\n",
              "        vertical-align: top;\n",
              "    }\n",
              "\n",
              "    .dataframe thead th {\n",
              "        text-align: right;\n",
              "    }\n",
              "</style>\n",
              "<table border=\"1\" class=\"dataframe\">\n",
              "  <thead>\n",
              "    <tr style=\"text-align: right;\">\n",
              "      <th></th>\n",
              "      <th>count</th>\n",
              "      <th>hate_speech</th>\n",
              "      <th>offensive_language</th>\n",
              "      <th>neither</th>\n",
              "      <th>class</th>\n",
              "      <th>tweet</th>\n",
              "    </tr>\n",
              "  </thead>\n",
              "  <tbody>\n",
              "    <tr>\n",
              "      <th>0</th>\n",
              "      <td>3</td>\n",
              "      <td>0</td>\n",
              "      <td>0</td>\n",
              "      <td>3</td>\n",
              "      <td>2</td>\n",
              "      <td>!!! RT @mayasolovely: As a woman you shouldn't...</td>\n",
              "    </tr>\n",
              "    <tr>\n",
              "      <th>1</th>\n",
              "      <td>3</td>\n",
              "      <td>0</td>\n",
              "      <td>3</td>\n",
              "      <td>0</td>\n",
              "      <td>1</td>\n",
              "      <td>!!!!! RT @mleew17: boy dats cold...tyga dwn ba...</td>\n",
              "    </tr>\n",
              "    <tr>\n",
              "      <th>2</th>\n",
              "      <td>3</td>\n",
              "      <td>0</td>\n",
              "      <td>3</td>\n",
              "      <td>0</td>\n",
              "      <td>1</td>\n",
              "      <td>!!!!!!! RT @UrKindOfBrand Dawg!!!! RT @80sbaby...</td>\n",
              "    </tr>\n",
              "    <tr>\n",
              "      <th>3</th>\n",
              "      <td>3</td>\n",
              "      <td>0</td>\n",
              "      <td>2</td>\n",
              "      <td>1</td>\n",
              "      <td>1</td>\n",
              "      <td>!!!!!!!!! RT @C_G_Anderson: @viva_based she lo...</td>\n",
              "    </tr>\n",
              "    <tr>\n",
              "      <th>4</th>\n",
              "      <td>6</td>\n",
              "      <td>0</td>\n",
              "      <td>6</td>\n",
              "      <td>0</td>\n",
              "      <td>1</td>\n",
              "      <td>!!!!!!!!!!!!! RT @ShenikaRoberts: The shit you...</td>\n",
              "    </tr>\n",
              "    <tr>\n",
              "      <th>...</th>\n",
              "      <td>...</td>\n",
              "      <td>...</td>\n",
              "      <td>...</td>\n",
              "      <td>...</td>\n",
              "      <td>...</td>\n",
              "      <td>...</td>\n",
              "    </tr>\n",
              "    <tr>\n",
              "      <th>25291</th>\n",
              "      <td>3</td>\n",
              "      <td>0</td>\n",
              "      <td>2</td>\n",
              "      <td>1</td>\n",
              "      <td>1</td>\n",
              "      <td>you's a muthaf***in lie &amp;#8220;@LifeAsKing: @2...</td>\n",
              "    </tr>\n",
              "    <tr>\n",
              "      <th>25292</th>\n",
              "      <td>3</td>\n",
              "      <td>0</td>\n",
              "      <td>1</td>\n",
              "      <td>2</td>\n",
              "      <td>2</td>\n",
              "      <td>you've gone and broke the wrong heart baby, an...</td>\n",
              "    </tr>\n",
              "    <tr>\n",
              "      <th>25294</th>\n",
              "      <td>3</td>\n",
              "      <td>0</td>\n",
              "      <td>3</td>\n",
              "      <td>0</td>\n",
              "      <td>1</td>\n",
              "      <td>young buck wanna eat!!.. dat nigguh like I ain...</td>\n",
              "    </tr>\n",
              "    <tr>\n",
              "      <th>25295</th>\n",
              "      <td>6</td>\n",
              "      <td>0</td>\n",
              "      <td>6</td>\n",
              "      <td>0</td>\n",
              "      <td>1</td>\n",
              "      <td>youu got wild bitches tellin you lies</td>\n",
              "    </tr>\n",
              "    <tr>\n",
              "      <th>25296</th>\n",
              "      <td>3</td>\n",
              "      <td>0</td>\n",
              "      <td>0</td>\n",
              "      <td>3</td>\n",
              "      <td>2</td>\n",
              "      <td>~~Ruffled | Ntac Eileen Dahlia - Beautiful col...</td>\n",
              "    </tr>\n",
              "  </tbody>\n",
              "</table>\n",
              "<p>24783 rows × 6 columns</p>\n",
              "</div>\n",
              "      <button class=\"colab-df-convert\" onclick=\"convertToInteractive('df-9d274f5c-4f40-4714-b53b-4ebf1771309b')\"\n",
              "              title=\"Convert this dataframe to an interactive table.\"\n",
              "              style=\"display:none;\">\n",
              "        \n",
              "  <svg xmlns=\"http://www.w3.org/2000/svg\" height=\"24px\"viewBox=\"0 0 24 24\"\n",
              "       width=\"24px\">\n",
              "    <path d=\"M0 0h24v24H0V0z\" fill=\"none\"/>\n",
              "    <path d=\"M18.56 5.44l.94 2.06.94-2.06 2.06-.94-2.06-.94-.94-2.06-.94 2.06-2.06.94zm-11 1L8.5 8.5l.94-2.06 2.06-.94-2.06-.94L8.5 2.5l-.94 2.06-2.06.94zm10 10l.94 2.06.94-2.06 2.06-.94-2.06-.94-.94-2.06-.94 2.06-2.06.94z\"/><path d=\"M17.41 7.96l-1.37-1.37c-.4-.4-.92-.59-1.43-.59-.52 0-1.04.2-1.43.59L10.3 9.45l-7.72 7.72c-.78.78-.78 2.05 0 2.83L4 21.41c.39.39.9.59 1.41.59.51 0 1.02-.2 1.41-.59l7.78-7.78 2.81-2.81c.8-.78.8-2.07 0-2.86zM5.41 20L4 18.59l7.72-7.72 1.47 1.35L5.41 20z\"/>\n",
              "  </svg>\n",
              "      </button>\n",
              "      \n",
              "  <style>\n",
              "    .colab-df-container {\n",
              "      display:flex;\n",
              "      flex-wrap:wrap;\n",
              "      gap: 12px;\n",
              "    }\n",
              "\n",
              "    .colab-df-convert {\n",
              "      background-color: #E8F0FE;\n",
              "      border: none;\n",
              "      border-radius: 50%;\n",
              "      cursor: pointer;\n",
              "      display: none;\n",
              "      fill: #1967D2;\n",
              "      height: 32px;\n",
              "      padding: 0 0 0 0;\n",
              "      width: 32px;\n",
              "    }\n",
              "\n",
              "    .colab-df-convert:hover {\n",
              "      background-color: #E2EBFA;\n",
              "      box-shadow: 0px 1px 2px rgba(60, 64, 67, 0.3), 0px 1px 3px 1px rgba(60, 64, 67, 0.15);\n",
              "      fill: #174EA6;\n",
              "    }\n",
              "\n",
              "    [theme=dark] .colab-df-convert {\n",
              "      background-color: #3B4455;\n",
              "      fill: #D2E3FC;\n",
              "    }\n",
              "\n",
              "    [theme=dark] .colab-df-convert:hover {\n",
              "      background-color: #434B5C;\n",
              "      box-shadow: 0px 1px 3px 1px rgba(0, 0, 0, 0.15);\n",
              "      filter: drop-shadow(0px 1px 2px rgba(0, 0, 0, 0.3));\n",
              "      fill: #FFFFFF;\n",
              "    }\n",
              "  </style>\n",
              "\n",
              "      <script>\n",
              "        const buttonEl =\n",
              "          document.querySelector('#df-9d274f5c-4f40-4714-b53b-4ebf1771309b button.colab-df-convert');\n",
              "        buttonEl.style.display =\n",
              "          google.colab.kernel.accessAllowed ? 'block' : 'none';\n",
              "\n",
              "        async function convertToInteractive(key) {\n",
              "          const element = document.querySelector('#df-9d274f5c-4f40-4714-b53b-4ebf1771309b');\n",
              "          const dataTable =\n",
              "            await google.colab.kernel.invokeFunction('convertToInteractive',\n",
              "                                                     [key], {});\n",
              "          if (!dataTable) return;\n",
              "\n",
              "          const docLinkHtml = 'Like what you see? Visit the ' +\n",
              "            '<a target=\"_blank\" href=https://colab.research.google.com/notebooks/data_table.ipynb>data table notebook</a>'\n",
              "            + ' to learn more about interactive tables.';\n",
              "          element.innerHTML = '';\n",
              "          dataTable['output_type'] = 'display_data';\n",
              "          await google.colab.output.renderOutput(dataTable, element);\n",
              "          const docLink = document.createElement('div');\n",
              "          docLink.innerHTML = docLinkHtml;\n",
              "          element.appendChild(docLink);\n",
              "        }\n",
              "      </script>\n",
              "    </div>\n",
              "  </div>\n",
              "  "
            ],
            "text/plain": [
              "       count  ...                                              tweet\n",
              "0          3  ...  !!! RT @mayasolovely: As a woman you shouldn't...\n",
              "1          3  ...  !!!!! RT @mleew17: boy dats cold...tyga dwn ba...\n",
              "2          3  ...  !!!!!!! RT @UrKindOfBrand Dawg!!!! RT @80sbaby...\n",
              "3          3  ...  !!!!!!!!! RT @C_G_Anderson: @viva_based she lo...\n",
              "4          6  ...  !!!!!!!!!!!!! RT @ShenikaRoberts: The shit you...\n",
              "...      ...  ...                                                ...\n",
              "25291      3  ...  you's a muthaf***in lie &#8220;@LifeAsKing: @2...\n",
              "25292      3  ...  you've gone and broke the wrong heart baby, an...\n",
              "25294      3  ...  young buck wanna eat!!.. dat nigguh like I ain...\n",
              "25295      6  ...              youu got wild bitches tellin you lies\n",
              "25296      3  ...  ~~Ruffled | Ntac Eileen Dahlia - Beautiful col...\n",
              "\n",
              "[24783 rows x 6 columns]"
            ]
          },
          "metadata": {},
          "execution_count": 5
        }
      ],
      "source": [
        "df"
      ]
    },
    {
      "cell_type": "code",
      "execution_count": 6,
      "metadata": {
        "deletable": true,
        "editable": true,
        "id": "EzxqvWu-LLOJ",
        "outputId": "98945654-b38e-44db-9d71-6d358815765f",
        "colab": {
          "base_uri": "https://localhost:8080/",
          "height": 300
        }
      },
      "outputs": [
        {
          "output_type": "execute_result",
          "data": {
            "text/html": [
              "\n",
              "  <div id=\"df-637b5119-f061-4bf3-822d-2fb5603ced11\">\n",
              "    <div class=\"colab-df-container\">\n",
              "      <div>\n",
              "<style scoped>\n",
              "    .dataframe tbody tr th:only-of-type {\n",
              "        vertical-align: middle;\n",
              "    }\n",
              "\n",
              "    .dataframe tbody tr th {\n",
              "        vertical-align: top;\n",
              "    }\n",
              "\n",
              "    .dataframe thead th {\n",
              "        text-align: right;\n",
              "    }\n",
              "</style>\n",
              "<table border=\"1\" class=\"dataframe\">\n",
              "  <thead>\n",
              "    <tr style=\"text-align: right;\">\n",
              "      <th></th>\n",
              "      <th>count</th>\n",
              "      <th>hate_speech</th>\n",
              "      <th>offensive_language</th>\n",
              "      <th>neither</th>\n",
              "    </tr>\n",
              "  </thead>\n",
              "  <tbody>\n",
              "    <tr>\n",
              "      <th>count</th>\n",
              "      <td>24783.000000</td>\n",
              "      <td>24783.000000</td>\n",
              "      <td>24783.000000</td>\n",
              "      <td>24783.000000</td>\n",
              "    </tr>\n",
              "    <tr>\n",
              "      <th>mean</th>\n",
              "      <td>3.243473</td>\n",
              "      <td>0.280515</td>\n",
              "      <td>2.413711</td>\n",
              "      <td>0.549247</td>\n",
              "    </tr>\n",
              "    <tr>\n",
              "      <th>std</th>\n",
              "      <td>0.883060</td>\n",
              "      <td>0.631851</td>\n",
              "      <td>1.399459</td>\n",
              "      <td>1.113299</td>\n",
              "    </tr>\n",
              "    <tr>\n",
              "      <th>min</th>\n",
              "      <td>3.000000</td>\n",
              "      <td>0.000000</td>\n",
              "      <td>0.000000</td>\n",
              "      <td>0.000000</td>\n",
              "    </tr>\n",
              "    <tr>\n",
              "      <th>25%</th>\n",
              "      <td>3.000000</td>\n",
              "      <td>0.000000</td>\n",
              "      <td>2.000000</td>\n",
              "      <td>0.000000</td>\n",
              "    </tr>\n",
              "    <tr>\n",
              "      <th>50%</th>\n",
              "      <td>3.000000</td>\n",
              "      <td>0.000000</td>\n",
              "      <td>3.000000</td>\n",
              "      <td>0.000000</td>\n",
              "    </tr>\n",
              "    <tr>\n",
              "      <th>75%</th>\n",
              "      <td>3.000000</td>\n",
              "      <td>0.000000</td>\n",
              "      <td>3.000000</td>\n",
              "      <td>0.000000</td>\n",
              "    </tr>\n",
              "    <tr>\n",
              "      <th>max</th>\n",
              "      <td>9.000000</td>\n",
              "      <td>7.000000</td>\n",
              "      <td>9.000000</td>\n",
              "      <td>9.000000</td>\n",
              "    </tr>\n",
              "  </tbody>\n",
              "</table>\n",
              "</div>\n",
              "      <button class=\"colab-df-convert\" onclick=\"convertToInteractive('df-637b5119-f061-4bf3-822d-2fb5603ced11')\"\n",
              "              title=\"Convert this dataframe to an interactive table.\"\n",
              "              style=\"display:none;\">\n",
              "        \n",
              "  <svg xmlns=\"http://www.w3.org/2000/svg\" height=\"24px\"viewBox=\"0 0 24 24\"\n",
              "       width=\"24px\">\n",
              "    <path d=\"M0 0h24v24H0V0z\" fill=\"none\"/>\n",
              "    <path d=\"M18.56 5.44l.94 2.06.94-2.06 2.06-.94-2.06-.94-.94-2.06-.94 2.06-2.06.94zm-11 1L8.5 8.5l.94-2.06 2.06-.94-2.06-.94L8.5 2.5l-.94 2.06-2.06.94zm10 10l.94 2.06.94-2.06 2.06-.94-2.06-.94-.94-2.06-.94 2.06-2.06.94z\"/><path d=\"M17.41 7.96l-1.37-1.37c-.4-.4-.92-.59-1.43-.59-.52 0-1.04.2-1.43.59L10.3 9.45l-7.72 7.72c-.78.78-.78 2.05 0 2.83L4 21.41c.39.39.9.59 1.41.59.51 0 1.02-.2 1.41-.59l7.78-7.78 2.81-2.81c.8-.78.8-2.07 0-2.86zM5.41 20L4 18.59l7.72-7.72 1.47 1.35L5.41 20z\"/>\n",
              "  </svg>\n",
              "      </button>\n",
              "      \n",
              "  <style>\n",
              "    .colab-df-container {\n",
              "      display:flex;\n",
              "      flex-wrap:wrap;\n",
              "      gap: 12px;\n",
              "    }\n",
              "\n",
              "    .colab-df-convert {\n",
              "      background-color: #E8F0FE;\n",
              "      border: none;\n",
              "      border-radius: 50%;\n",
              "      cursor: pointer;\n",
              "      display: none;\n",
              "      fill: #1967D2;\n",
              "      height: 32px;\n",
              "      padding: 0 0 0 0;\n",
              "      width: 32px;\n",
              "    }\n",
              "\n",
              "    .colab-df-convert:hover {\n",
              "      background-color: #E2EBFA;\n",
              "      box-shadow: 0px 1px 2px rgba(60, 64, 67, 0.3), 0px 1px 3px 1px rgba(60, 64, 67, 0.15);\n",
              "      fill: #174EA6;\n",
              "    }\n",
              "\n",
              "    [theme=dark] .colab-df-convert {\n",
              "      background-color: #3B4455;\n",
              "      fill: #D2E3FC;\n",
              "    }\n",
              "\n",
              "    [theme=dark] .colab-df-convert:hover {\n",
              "      background-color: #434B5C;\n",
              "      box-shadow: 0px 1px 3px 1px rgba(0, 0, 0, 0.15);\n",
              "      filter: drop-shadow(0px 1px 2px rgba(0, 0, 0, 0.3));\n",
              "      fill: #FFFFFF;\n",
              "    }\n",
              "  </style>\n",
              "\n",
              "      <script>\n",
              "        const buttonEl =\n",
              "          document.querySelector('#df-637b5119-f061-4bf3-822d-2fb5603ced11 button.colab-df-convert');\n",
              "        buttonEl.style.display =\n",
              "          google.colab.kernel.accessAllowed ? 'block' : 'none';\n",
              "\n",
              "        async function convertToInteractive(key) {\n",
              "          const element = document.querySelector('#df-637b5119-f061-4bf3-822d-2fb5603ced11');\n",
              "          const dataTable =\n",
              "            await google.colab.kernel.invokeFunction('convertToInteractive',\n",
              "                                                     [key], {});\n",
              "          if (!dataTable) return;\n",
              "\n",
              "          const docLinkHtml = 'Like what you see? Visit the ' +\n",
              "            '<a target=\"_blank\" href=https://colab.research.google.com/notebooks/data_table.ipynb>data table notebook</a>'\n",
              "            + ' to learn more about interactive tables.';\n",
              "          element.innerHTML = '';\n",
              "          dataTable['output_type'] = 'display_data';\n",
              "          await google.colab.output.renderOutput(dataTable, element);\n",
              "          const docLink = document.createElement('div');\n",
              "          docLink.innerHTML = docLinkHtml;\n",
              "          element.appendChild(docLink);\n",
              "        }\n",
              "      </script>\n",
              "    </div>\n",
              "  </div>\n",
              "  "
            ],
            "text/plain": [
              "              count   hate_speech  offensive_language       neither\n",
              "count  24783.000000  24783.000000        24783.000000  24783.000000\n",
              "mean       3.243473      0.280515            2.413711      0.549247\n",
              "std        0.883060      0.631851            1.399459      1.113299\n",
              "min        3.000000      0.000000            0.000000      0.000000\n",
              "25%        3.000000      0.000000            2.000000      0.000000\n",
              "50%        3.000000      0.000000            3.000000      0.000000\n",
              "75%        3.000000      0.000000            3.000000      0.000000\n",
              "max        9.000000      7.000000            9.000000      9.000000"
            ]
          },
          "metadata": {},
          "execution_count": 6
        }
      ],
      "source": [
        "df.describe()"
      ]
    },
    {
      "cell_type": "code",
      "execution_count": 7,
      "metadata": {
        "deletable": true,
        "editable": true,
        "id": "POVCiaOcLLOK",
        "outputId": "cdc81921-01ec-46f9-fb1d-f9d7b8d70189",
        "colab": {
          "base_uri": "https://localhost:8080/"
        }
      },
      "outputs": [
        {
          "output_type": "execute_result",
          "data": {
            "text/plain": [
              "Index(['count', 'hate_speech', 'offensive_language', 'neither', 'class',\n",
              "       'tweet'],\n",
              "      dtype='object')"
            ]
          },
          "metadata": {},
          "execution_count": 7
        }
      ],
      "source": [
        "df.columns"
      ]
    },
    {
      "cell_type": "markdown",
      "metadata": {
        "deletable": true,
        "editable": true,
        "id": "rMFJw6U9LLOL"
      },
      "source": [
        "### Columns key:\n",
        "count = number of CrowdFlower users who coded each tweet (min is 3, sometimes more users coded a tweet when judgments were determined to be unreliable by CF).\n",
        "\n",
        "\n",
        "hate_speech = number of CF users who judged the tweet to be hate speech\n",
        "\n",
        "\n",
        "offensive_language = number of CF users who judged the tweet to be offensive\n",
        "\n",
        "\n",
        "neither = number of CF users who judged the tweet to be neither hate speech nor offensive\n",
        "\n",
        "\n",
        "class = class label determined by majority rule\n",
        "\n",
        "    0 - hate speech\n",
        "    1 - offensive  language\n",
        "    2 - neither\n",
        "\n",
        "tweet = raw tweet text\n"
      ]
    },
    {
      "cell_type": "code",
      "execution_count": 8,
      "metadata": {
        "deletable": true,
        "editable": true,
        "id": "5JItAni1LLOL",
        "outputId": "0a5fde44-9128-423c-ba39-41c9b81d4a64",
        "colab": {
          "base_uri": "https://localhost:8080/",
          "height": 286
        }
      },
      "outputs": [
        {
          "output_type": "execute_result",
          "data": {
            "text/plain": [
              "<matplotlib.axes._subplots.AxesSubplot at 0x7f243ae63510>"
            ]
          },
          "metadata": {},
          "execution_count": 8
        },
        {
          "output_type": "display_data",
          "data": {
            "image/png": "[encoded data removed]",
            "text/plain": [
              "<Figure size 432x288 with 1 Axes>"
            ]
          },
          "metadata": {
            "needs_background": "light"
          }
        }
      ],
      "source": [
        "df['class'].hist()"
      ]
    },
    {
      "cell_type": "markdown",
      "metadata": {
        "deletable": true,
        "editable": true,
        "id": "g2csNiUqLLON"
      },
      "source": [
        "This histogram shows the imbalanced nature of the task - most tweets containing \"hate\" words as defined by Hatebase were \n",
        "only considered to be offensive by the CF coders. More tweets were considered neither hate speech nor offensive than were considered hate speech."
      ]
    },
    {
      "cell_type": "code",
      "execution_count": 9,
      "metadata": {
        "deletable": true,
        "editable": true,
        "id": "P9ahx9HDLLON"
      },
      "outputs": [],
      "source": [
        "tweets=df.tweet"
      ]
    },
    {
      "cell_type": "markdown",
      "metadata": {
        "deletable": true,
        "editable": true,
        "id": "zzBYrPoSLLOO"
      },
      "source": [
        "## Feature generation"
      ]
    },
    {
      "cell_type": "code",
      "execution_count": 10,
      "metadata": {
        "deletable": true,
        "editable": true,
        "id": "mL-YdNXuLLOP",
        "colab": {
          "base_uri": "https://localhost:8080/"
        },
        "outputId": "40b8ff38-3080-4304-a61a-e081aa37604c"
      },
      "outputs": [
        {
          "output_type": "stream",
          "name": "stdout",
          "text": [
            "[nltk_data] Downloading package stopwords to /root/nltk_data...\n",
            "[nltk_data]   Unzipping corpora/stopwords.zip.\n"
          ]
        }
      ],
      "source": [
        "nltk.download('stopwords')\n",
        "stopwords = nltk.corpus.stopwords.words(\"english\")\n",
        "\n",
        "other_exclusions = [\"#ff\", \"ff\", \"rt\"]\n",
        "stopwords.extend(other_exclusions)\n",
        "\n",
        "stemmer = PorterStemmer()\n",
        "\n",
        "\n",
        "def preprocess(text_string):\n",
        "    \"\"\"\n",
        "    Accepts a text string and replaces:\n",
        "    1) urls with URLHERE\n",
        "    2) lots of whitespace with one instance\n",
        "    3) mentions with MENTIONHERE\n",
        "\n",
        "    This allows us to get standardized counts of urls and mentions\n",
        "    Without caring about specific people mentioned\n",
        "    \"\"\"\n",
        "    space_pattern = '\\s+'\n",
        "    giant_url_regex = ('http[s]?://(?:[a-zA-Z]|[0-9]|[$-_@.&+]|'\n",
        "        '[!*\\(\\),]|(?:%[0-9a-fA-F][0-9a-fA-F]))+')\n",
        "    mention_regex = '@[\\w\\-]+'\n",
        "    parsed_text = re.sub(space_pattern, ' ', text_string)\n",
        "    parsed_text = re.sub(giant_url_regex, '', parsed_text)\n",
        "    parsed_text = re.sub(mention_regex, '', parsed_text)\n",
        "    return parsed_text\n",
        "\n",
        "def tokenize(tweet):\n",
        "    \"\"\"Removes punctuation & excess whitespace, sets to lowercase,\n",
        "    and stems tweets. Returns a list of stemmed tokens.\"\"\"\n",
        "    tweet = \" \".join(re.split(\"[^a-zA-Z]*\", tweet.lower())).strip()\n",
        "    tokens = [stemmer.stem(t) for t in tweet.split()]\n",
        "    return tokens\n",
        "\n",
        "def basic_tokenize(tweet):\n",
        "    \"\"\"Same as tokenize but without the stemming\"\"\"\n",
        "    tweet = \" \".join(re.split(\"[^a-zA-Z.,!?]*\", tweet.lower())).strip()\n",
        "    return tweet.split()\n",
        "\n",
        "vectorizer = TfidfVectorizer(\n",
        "    tokenizer=tokenize,\n",
        "    preprocessor=preprocess,\n",
        "    ngram_range=(1, 3),\n",
        "    stop_words=stopwords,\n",
        "    use_idf=True,\n",
        "    smooth_idf=False,\n",
        "    norm=None,\n",
        "    decode_error='replace',\n",
        "    max_features=10000,\n",
        "    min_df=5,\n",
        "    max_df=0.75\n",
        "    )"
      ]
    },
    {
      "cell_type": "code",
      "execution_count": 11,
      "metadata": {
        "deletable": true,
        "editable": true,
        "id": "3ciSa7cILLOQ",
        "colab": {
          "base_uri": "https://localhost:8080/"
        },
        "outputId": "a5854d6d-665a-4bde-8dae-268aa17652ac"
      },
      "outputs": [
        {
          "output_type": "stream",
          "name": "stderr",
          "text": [
            "/usr/local/lib/python3.7/dist-packages/sklearn/feature_extraction/text.py:401: UserWarning: Your stop_words may be inconsistent with your preprocessing. Tokenizing the stop words generated tokens ['b', 'c', 'e', 'f', 'g', 'h', 'j', 'l', 'n', 'p', 'r', 'u', 'v', 'w'] not in stop_words.\n",
            "  % sorted(inconsistent)\n"
          ]
        }
      ],
      "source": [
        "#Construct tfidf matrix and get relevant scores\n",
        "tfidf = vectorizer.fit_transform(tweets).toarray()\n",
        "vocab = {v:i for i, v in enumerate(vectorizer.get_feature_names_out())}\n",
        "idf_vals = vectorizer.idf_\n",
        "idf_dict = {i:idf_vals[i] for i in vocab.values()} #keys are indices; values are IDF scores"
      ]
    },
    {
      "cell_type": "code",
      "execution_count": 12,
      "metadata": {
        "deletable": true,
        "editable": true,
        "id": "yB8bQvC8LLOQ",
        "colab": {
          "base_uri": "https://localhost:8080/"
        },
        "outputId": "16dc7f1a-5d6f-4367-aba1-4e8033006691"
      },
      "outputs": [
        {
          "output_type": "stream",
          "name": "stdout",
          "text": [
            "[nltk_data] Downloading package averaged_perceptron_tagger to\n",
            "[nltk_data]     /root/nltk_data...\n",
            "[nltk_data]   Unzipping taggers/averaged_perceptron_tagger.zip.\n"
          ]
        }
      ],
      "source": [
        "nltk.download('averaged_perceptron_tagger')\n",
        "#Get POS tags for tweets and save as a string\n",
        "tweet_tags = []\n",
        "for t in tweets:\n",
        "    tokens = basic_tokenize(preprocess(t))\n",
        "    tags = nltk.pos_tag(tokens)\n",
        "    tag_list = [x[1] for x in tags]\n",
        "    tag_str = \" \".join(tag_list)\n",
        "    tweet_tags.append(tag_str)"
      ]
    },
    {
      "cell_type": "code",
      "execution_count": 13,
      "metadata": {
        "collapsed": true,
        "deletable": true,
        "editable": true,
        "id": "uv4S9kgTLLOR"
      },
      "outputs": [],
      "source": [
        "#We can use the TFIDF vectorizer to get a token matrix for the POS tags\n",
        "pos_vectorizer = TfidfVectorizer(\n",
        "    tokenizer=None,\n",
        "    lowercase=False,\n",
        "    preprocessor=None,\n",
        "    ngram_range=(1, 3),\n",
        "    stop_words=None,\n",
        "    use_idf=False,\n",
        "    smooth_idf=False,\n",
        "    norm=None,\n",
        "    decode_error='replace',\n",
        "    max_features=5000,\n",
        "    min_df=5,\n",
        "    max_df=0.75,\n",
        "    )"
      ]
    },
    {
      "cell_type": "code",
      "execution_count": 14,
      "metadata": {
        "collapsed": true,
        "deletable": true,
        "editable": true,
        "id": "nIgc3oc_LLOR"
      },
      "outputs": [],
      "source": [
        "#Construct POS TF matrix and get vocab dict\n",
        "pos = pos_vectorizer.fit_transform(pd.Series(tweet_tags)).toarray()\n",
        "pos_vocab = {v:i for i, v in enumerate(pos_vectorizer.get_feature_names_out())}"
      ]
    },
    {
      "cell_type": "code",
      "execution_count": 15,
      "metadata": {
        "collapsed": true,
        "deletable": true,
        "editable": true,
        "id": "s-x-KmYQLLOS"
      },
      "outputs": [],
      "source": [
        "#Now get other features\n",
        "sentiment_analyzer = VS()\n",
        "\n",
        "def count_twitter_objs(text_string):\n",
        "    \"\"\"\n",
        "    Accepts a text string and replaces:\n",
        "    1) urls with URLHERE\n",
        "    2) lots of whitespace with one instance\n",
        "    3) mentions with MENTIONHERE\n",
        "    4) hashtags with HASHTAGHERE\n",
        "\n",
        "    This allows us to get standardized counts of urls and mentions\n",
        "    Without caring about specific people mentioned.\n",
        "    \n",
        "    Returns counts of urls, mentions, and hashtags.\n",
        "    \"\"\"\n",
        "    space_pattern = '\\s+'\n",
        "    giant_url_regex = ('http[s]?://(?:[a-zA-Z]|[0-9]|[$-_@.&+]|'\n",
        "        '[!*\\(\\),]|(?:%[0-9a-fA-F][0-9a-fA-F]))+')\n",
        "    mention_regex = '@[\\w\\-]+'\n",
        "    hashtag_regex = '#[\\w\\-]+'\n",
        "    parsed_text = re.sub(space_pattern, ' ', text_string)\n",
        "    parsed_text = re.sub(giant_url_regex, 'URLHERE', parsed_text)\n",
        "    parsed_text = re.sub(mention_regex, 'MENTIONHERE', parsed_text)\n",
        "    parsed_text = re.sub(hashtag_regex, 'HASHTAGHERE', parsed_text)\n",
        "    return(parsed_text.count('URLHERE'),parsed_text.count('MENTIONHERE'),parsed_text.count('HASHTAGHERE'))\n",
        "\n",
        "def other_features(tweet):\n",
        "    \"\"\"This function takes a string and returns a list of features.\n",
        "    These include Sentiment scores, Text and Readability scores,\n",
        "    as well as Twitter specific features\"\"\"\n",
        "    sentiment = sentiment_analyzer.polarity_scores(tweet)\n",
        "    \n",
        "    words = preprocess(tweet) #Get text only\n",
        "    \n",
        "    syllables = textstat.syllable_count(words)\n",
        "    num_chars = sum(len(w) for w in words)\n",
        "    num_chars_total = len(tweet)\n",
        "    num_terms = len(tweet.split())\n",
        "    num_words = len(words.split())\n",
        "    avg_syl = round(float((syllables+0.001))/float(num_words+0.001),4)\n",
        "    num_unique_terms = len(set(words.split()))\n",
        "    \n",
        "    ###Modified FK grade, where avg words per sentence is just num words/1\n",
        "    FKRA = round(float(0.39 * float(num_words)/1.0) + float(11.8 * avg_syl) - 15.59,1)\n",
        "    ##Modified FRE score, where sentence fixed to 1\n",
        "    FRE = round(206.835 - 1.015*(float(num_words)/1.0) - (84.6*float(avg_syl)),2)\n",
        "    \n",
        "    twitter_objs = count_twitter_objs(tweet)\n",
        "    retweet = 0\n",
        "    if \"rt\" in words:\n",
        "        retweet = 1\n",
        "    features = [FKRA, FRE,syllables, avg_syl, num_chars, num_chars_total, num_terms, num_words,\n",
        "                num_unique_terms, sentiment['neg'], sentiment['pos'], sentiment['neu'], sentiment['compound'],\n",
        "                twitter_objs[2], twitter_objs[1],\n",
        "                twitter_objs[0], retweet]\n",
        "    #features = pandas.DataFrame(features)\n",
        "    return features\n",
        "\n",
        "def get_feature_array(tweets):\n",
        "    feats=[]\n",
        "    for t in tweets:\n",
        "        feats.append(other_features(t))\n",
        "    return np.array(feats)"
      ]
    },
    {
      "cell_type": "code",
      "execution_count": 16,
      "metadata": {
        "collapsed": true,
        "deletable": true,
        "editable": true,
        "id": "J_Yx4wXPLLOS"
      },
      "outputs": [],
      "source": [
        "other_features_names = [\"FKRA\", \"FRE\",\"num_syllables\", \"avg_syl_per_word\", \"num_chars\", \"num_chars_total\", \\\n",
        "                        \"num_terms\", \"num_words\", \"num_unique_words\", \"vader neg\",\"vader pos\",\"vader neu\", \\\n",
        "                        \"vader compound\", \"num_hashtags\", \"num_mentions\", \"num_urls\", \"is_retweet\"]"
      ]
    },
    {
      "cell_type": "code",
      "execution_count": 17,
      "metadata": {
        "deletable": true,
        "editable": true,
        "id": "ov78PfltLLOT"
      },
      "outputs": [],
      "source": [
        "feats = get_feature_array(tweets)"
      ]
    },
    {
      "cell_type": "code",
      "execution_count": 18,
      "metadata": {
        "collapsed": true,
        "deletable": true,
        "editable": true,
        "id": "sVht_1gaLLOT"
      },
      "outputs": [],
      "source": [
        "#Now join them all up\n",
        "M = np.concatenate([tfidf,pos,feats],axis=1)"
      ]
    },
    {
      "cell_type": "code",
      "execution_count": 19,
      "metadata": {
        "deletable": true,
        "editable": true,
        "id": "wKJPahrqLLOT",
        "outputId": "3f2ca6b4-33de-4b8e-92ff-2376cccc2564",
        "colab": {
          "base_uri": "https://localhost:8080/"
        }
      },
      "outputs": [
        {
          "output_type": "execute_result",
          "data": {
            "text/plain": [
              "(24783, 4023)"
            ]
          },
          "metadata": {},
          "execution_count": 19
        }
      ],
      "source": [
        "M.shape"
      ]
    },
    {
      "cell_type": "code",
      "execution_count": 20,
      "metadata": {
        "deletable": true,
        "editable": true,
        "id": "i1_DUoEbLLOU"
      },
      "outputs": [],
      "source": [
        "#Finally get a list of variable names\n",
        "variables = ['']*len(vocab)\n",
        "for k,v in vocab.items():\n",
        "    variables[v] = k\n",
        "\n",
        "pos_variables = ['']*len(pos_vocab)\n",
        "for k,v in pos_vocab.items():\n",
        "    pos_variables[v] = k\n",
        "\n",
        "feature_names = variables+pos_variables+other_features_names"
      ]
    },
    {
      "cell_type": "markdown",
      "metadata": {
        "deletable": true,
        "editable": true,
        "id": "qmRY5E7NLLOU"
      },
      "source": [
        "# Running the model"
      ]
    },
    {
      "cell_type": "code",
      "execution_count": 21,
      "metadata": {
        "collapsed": true,
        "deletable": true,
        "editable": true,
        "id": "UFOwkOMQLLOV"
      },
      "outputs": [],
      "source": [
        "X = pd.DataFrame(M)\n",
        "y = df['class'].astype(int)"
      ]
    },
    {
      "cell_type": "code",
      "source": [
        "feature_transformer = SelectFromModel(LogisticRegression(class_weight='balanced',penalty=\"l1\", C=0.01, solver='liblinear'))\n",
        "\n",
        "X_ = feature_transformer.fit_transform(X,y)"
      ],
      "metadata": {
        "id": "7MtWbgBv-Hy4"
      },
      "execution_count": 40,
      "outputs": []
    },
    {
      "cell_type": "code",
      "source": [
        "X_.shape"
      ],
      "metadata": {
        "colab": {
          "base_uri": "https://localhost:8080/"
        },
        "id": "TAX5BIHbI0E5",
        "outputId": "410cd71a-8749-4e6f-adb0-80ad341dd6b8"
      },
      "execution_count": 44,
      "outputs": [
        {
          "output_type": "execute_result",
          "data": {
            "text/plain": [
              "(24783, 466)"
            ]
          },
          "metadata": {},
          "execution_count": 44
        }
      ]
    },
    {
      "cell_type": "code",
      "source": [
        "X_train, X_test, y_train, y_test = train_test_split(X_, y, random_state=42, test_size=0.1)"
      ],
      "metadata": {
        "id": "WO8bcXNPA60Q"
      },
      "execution_count": 65,
      "outputs": []
    },
    {
      "cell_type": "code",
      "source": [
        "# Changes to hyperparameters to ensure control variables remain constant:\n",
        "# Solver changed to the new default solver, lbfgs. See comments in start_flower_client for details\n",
        "# `max_iter` must be changed as lbfgs takes more epochs to successfully converge.\n",
        "# Framework used for multi class classification is changed to multinomial, as opposed to ovr. \n",
        "# This is necessary because of the non-iid data in federated learning scenarios; in a multinomial framework, learning 𝛽𝑖 for a particular class i\n",
        "# immediately affects our model for other classes j, through the joint model. Consequently, The training algorithm uses log loss aka cross-entropy loss\n",
        "classifier = LogisticRegression(class_weight='balanced',penalty='l2', C=0.01, max_iter=1500)"
      ],
      "metadata": {
        "id": "pvrfVFjoWAlt"
      },
      "execution_count": 66,
      "outputs": []
    },
    {
      "cell_type": "code",
      "source": [
        "model = classifier.fit(X_train, y_train)"
      ],
      "metadata": {
        "id": "popozOSPgSTm"
      },
      "execution_count": 67,
      "outputs": []
    },
    {
      "cell_type": "code",
      "execution_count": 68,
      "metadata": {
        "deletable": true,
        "editable": true,
        "id": "QCpkWAWRLLOW"
      },
      "outputs": [],
      "source": [
        "y_preds = model.predict(X_test)"
      ]
    },
    {
      "cell_type": "markdown",
      "source": [
        "Learning the parameters of a prediction function and testing it on the same data is a methodological mistake. "
      ],
      "metadata": {
        "id": "SK53DTi9-OPE"
      }
    },
    {
      "cell_type": "markdown",
      "metadata": {
        "deletable": true,
        "editable": true,
        "id": "xIaJSdpALLOW"
      },
      "source": [
        "## Evaluating the results"
      ]
    },
    {
      "cell_type": "code",
      "execution_count": 69,
      "metadata": {
        "deletable": true,
        "editable": true,
        "id": "JVR1H_vMLLOW"
      },
      "outputs": [],
      "source": [
        "report = classification_report(y_test, y_preds)"
      ]
    },
    {
      "cell_type": "code",
      "execution_count": 70,
      "metadata": {
        "deletable": true,
        "editable": true,
        "id": "0_W-j3E_LLOW",
        "outputId": "976a2ef4-8d02-4829-8940-828c35e60b44",
        "colab": {
          "base_uri": "https://localhost:8080/"
        }
      },
      "outputs": [
        {
          "output_type": "stream",
          "name": "stdout",
          "text": [
            "              precision    recall  f1-score   support\n",
            "\n",
            "           0       0.28      0.76      0.41       164\n",
            "           1       0.97      0.74      0.84      1905\n",
            "           2       0.58      0.82      0.68       410\n",
            "\n",
            "    accuracy                           0.75      2479\n",
            "   macro avg       0.61      0.77      0.64      2479\n",
            "weighted avg       0.86      0.75      0.78      2479\n",
            "\n"
          ]
        }
      ],
      "source": [
        "print(report)"
      ]
    },
    {
      "cell_type": "code",
      "execution_count": 63,
      "metadata": {
        "deletable": true,
        "editable": true,
        "id": "2iA7YFi7LLOX"
      },
      "outputs": [],
      "source": [
        "def plot_confusion_matrix(y, y_preds):\n",
        "  matrix = confusion_matrix(y,y_preds)\n",
        "  matrix_proportions = np.zeros((3,3))\n",
        "  for i in range(0,3):\n",
        "    matrix_proportions[i,:] = matrix[i,:]/float(matrix[i,:].sum())\n",
        "  names=['Hate','Offensive','Neither']\n",
        "  confusion_df = pd.DataFrame(matrix_proportions, index=names,columns=names)\n",
        "  plt.figure(figsize=(5,5))\n",
        "  seaborn.heatmap(confusion_df,annot=True,annot_kws={\"size\": 12},cmap='gist_gray_r',cbar=False, square=True,fmt='.2f')\n",
        "  plt.ylabel(r'True categories',fontsize=14)\n",
        "  plt.xlabel(r'Predicted categories',fontsize=14)\n",
        "  plt.tick_params(labelsize=12)"
      ]
    },
    {
      "cell_type": "code",
      "source": [
        "plot_confusion_matrix(y_test,y_preds)"
      ],
      "metadata": {
        "colab": {
          "base_uri": "https://localhost:8080/",
          "height": 341
        },
        "id": "hy47YnA-EY5M",
        "outputId": "e2d1e31b-f485-4468-fcab-44be2c5683e4"
      },
      "execution_count": 86,
      "outputs": [
        {
          "output_type": "display_data",
          "data": {
            "image/png": "[encoded data removed]",
            "text/plain": [
              "<Figure size 360x360 with 1 Axes>"
            ]
          },
          "metadata": {
            "needs_background": "light"
          }
        }
      ]
    },
    {
      "cell_type": "code",
      "source": [
        "# Distribution of estimates\n",
        "# The density parameter, which normalizes bin heights so that the integral of the histogram is 1. \n",
        "# The resulting histogram is an approximation of the probability density function.\n",
        "plt.hist(y_preds, density=True)\n",
        "plt.show()"
      ],
      "metadata": {
        "colab": {
          "base_uri": "https://localhost:8080/",
          "height": 265
        },
        "id": "1y-3EyrAW6sH",
        "outputId": "81d5d88d-3242-40f0-e5fb-88a873712b9c"
      },
      "execution_count": 92,
      "outputs": [
        {
          "output_type": "display_data",
          "data": {
            "image/png": "[encoded data removed]",
            "text/plain": [
              "<Figure size 432x288 with 1 Axes>"
            ]
          },
          "metadata": {
            "needs_background": "light"
          }
        }
      ]
    },
    {
      "cell_type": "code",
      "source": [
        "# True distribution\n",
        "plt.hist(y, density=True)\n",
        "plt.show()"
      ],
      "metadata": {
        "colab": {
          "base_uri": "https://localhost:8080/",
          "height": 266
        },
        "id": "RTtoVuOVcvy9",
        "outputId": "ffbd8e6d-be1e-421c-f9ae-24ecf6981cab"
      },
      "execution_count": 93,
      "outputs": [
        {
          "output_type": "display_data",
          "data": {
            "image/png": "[encoded data removed]",
            "text/plain": [
              "<Figure size 432x288 with 1 Axes>"
            ]
          },
          "metadata": {
            "needs_background": "light"
          }
        }
      ]
    },
    {
      "cell_type": "markdown",
      "source": [
        "# Federating The Model"
      ],
      "metadata": {
        "id": "a4MJch1pgPOv"
      }
    },
    {
      "cell_type": "markdown",
      "source": [
        "Single-machine simulation of a federated learning system using Flower"
      ],
      "metadata": {
        "id": "CdPkqZBMDV_p"
      }
    },
    {
      "cell_type": "markdown",
      "source": [
        "## Utility Functions"
      ],
      "metadata": {
        "id": "ne1N9RZuiwiE"
      }
    },
    {
      "cell_type": "code",
      "source": [
        "XY = Tuple[np.ndarray, np.ndarray]\n",
        "Dataset = Tuple[XY, XY]\n",
        "LogRegParams = Union[XY, Tuple[np.ndarray]]\n",
        "XYList = List[XY]\n",
        "\n",
        "\n",
        "def get_model_parameters(model: LogisticRegression) -> LogRegParams:\n",
        "#Returns the paramters of a sklearn LogisticRegression model.\n",
        "    if model.fit_intercept:\n",
        "        params = (model.coef_, model.intercept_)\n",
        "    else:\n",
        "        params = (model.coef_,)\n",
        "    return params\n",
        "\n",
        "\n",
        "def set_model_params(\n",
        "    model: LogisticRegression, params: LogRegParams\n",
        ") -> LogisticRegression:\n",
        "#Sets the parameters of a sklean LogisticRegression model.\n",
        "    model.coef_ = params[0]\n",
        "    if model.fit_intercept:\n",
        "        model.intercept_ = params[1]\n",
        "    return model\n",
        "\n",
        "\n",
        "def set_initial_params(model: LogisticRegression):\n",
        "#Sets initial parameters as zeros Required since model params are\n",
        "#uninitialized until model.fit is called.\n",
        "#But server asks for initial parameters from clients at launch. Refer\n",
        "#to sklearn.linear_model.LogisticRegression documentation for more\n",
        "#information.\n",
        "\n",
        "    n_classes = 3  # our dataset has 3 classes\n",
        "    n_features = 466  # Number of features in dataset after feature selection by transformer\n",
        "    model.classes_ = np.array([i for i in range(n_classes)])\n",
        "\n",
        "    model.coef_ = np.zeros((n_classes, n_features))\n",
        "    if model.fit_intercept:\n",
        "        model.intercept_ = np.zeros((n_classes,))\n",
        "\n",
        "def load_dataset() -> Dataset:\n",
        "    X_train, X_test, y_train, y_test = train_test_split(X, y, test_size=0.1)\n",
        "    return (X_train, y_train), (X_test, y_test)\n",
        "\n",
        "def partition(X: np.ndarray, y: np.ndarray, num_partitions: int) -> XYList:\n",
        "# Split X and y into a number of partitions.\n",
        "    return list(\n",
        "        zip(np.array_split(X, num_partitions), np.array_split(y, num_partitions))\n",
        "    )"
      ],
      "metadata": {
        "id": "8KXr8FmTgNrM"
      },
      "execution_count": 94,
      "outputs": []
    },
    {
      "cell_type": "markdown",
      "source": [
        "## Server API"
      ],
      "metadata": {
        "id": "Ngfm4O3Bj_7-"
      }
    },
    {
      "cell_type": "code",
      "source": [
        "def fit_round(rnd: int) -> Dict:\n",
        "    \"\"\"Send round number to client.\"\"\"\n",
        "    return {\"rnd\": rnd}\n",
        "\n",
        "\n",
        "def get_eval_fn(model: LogisticRegression):\n",
        "    \"\"\"Return an evaluation function for server-side evaluation.\"\"\"\n",
        "\n",
        "    # Load test data here to avoid the overhead of doing it in `evaluate` itself\n",
        "    _, (X_test, y_test) = load_dataset()\n",
        "\n",
        "    # Select features\n",
        "    X_test_ = feature_transformer.transform(X_test)\n",
        "\n",
        "    # The `evaluate` function will be called after every round\n",
        "    def evaluate(parameters: fl.common.Weights):\n",
        "        # Update model with the latest parameters\n",
        "        set_model_params(model, parameters)\n",
        "        # Calculate cross-entropy loss\n",
        "        loss = log_loss(y_test, model.predict_proba(X_test_))\n",
        "        accuracy = model.score(X_test_, y_test)\n",
        "        return loss, {\"accuracy\": accuracy}\n",
        "\n",
        "    return evaluate"
      ],
      "metadata": {
        "id": "kUGPEvkTkL2M"
      },
      "execution_count": 34,
      "outputs": []
    },
    {
      "cell_type": "code",
      "source": [
        "def start_flower_server():\n",
        "  print('function: start_flower_server')\n",
        "  print('module name:', __name__)\n",
        "  print('parent process:', os.getppid())\n",
        "  print('process id:', os.getpid())\n",
        "\n",
        "  model = LogisticRegression()\n",
        "  set_initial_params(model)\n",
        "  strategy = fl.server.strategy.FedAvg(\n",
        "        min_available_clients=2,\n",
        "        eval_fn=get_eval_fn(model),\n",
        "        on_fit_config_fn=fit_round,\n",
        "  )\n",
        "  fl.server.start_server(\"0.0.0.0:80\", strategy=strategy, config={\"num_rounds\": 5})"
      ],
      "metadata": {
        "id": "yMirYHyIbfo5"
      },
      "execution_count": 35,
      "outputs": []
    },
    {
      "cell_type": "markdown",
      "source": [
        "## Client API"
      ],
      "metadata": {
        "id": "txBxYsxvsQ_2"
      }
    },
    {
      "cell_type": "code",
      "source": [
        "def start_flower_client(X_train_: np.ndarray, y_train: np.ndarray, X_test_: np.ndarray, y_test: np.ndarray):\n",
        "  print('function: start_flower_client')\n",
        "  print('module name:', __name__)\n",
        "  print('parent process:', os.getppid())\n",
        "  print('process id:', os.getpid())\n",
        "\n",
        "  # Create LogisticRegression Model\n",
        "  # max_iter: way to limit the number of epochs. One epoch means that each sample in the training dataset has had an opportunity \n",
        "  # to update the internal model parameters. The solver iterates until convergence (determined by ‘tol’) or this number of iterations.\n",
        "  # i.e., the learning will be stopped either when the solver iterates max_iter times or when the cost between two iterations changes less than tol, \n",
        "  # whichever comes first. From sklearn.linear_model.LogisticRegression documentation we can see that ‘tol’ is 1e-4 (0.0001) by default.\n",
        "  # warm_start: prevent refreshing weights when fitting, this is required for federated learning\n",
        "  # As a result of the fact that warm_start is required, the variable solver must be changed because liblinear does not support warm start\n",
        "  # multi_class is set to ovr because the default value for multi_class is 'multinomial' for all solvers other than liblinear.\n",
        "  # The centralized model uses ovr framework so this is one of our control variables\n",
        "  #\n",
        "  model = LogisticRegression(penalty='l2', max_iter=1, warm_start=True, class_weight='balanced', C=0.01)\n",
        "\n",
        "  # Setting initial parameters, akin to model.compile for keras models\n",
        "  set_initial_params(model)\n",
        "\n",
        "  # Define Flower client\n",
        "  class MnistClient(fl.client.NumPyClient):\n",
        "    def get_parameters(self): # type: ignore\n",
        "      return get_model_parameters(model)\n",
        "\n",
        "    def fit(self, parameters, config):\n",
        "      set_model_params(model, parameters)\n",
        "      # Ignore convergence failure due to low local epochs\n",
        "      with warnings.catch_warnings():\n",
        "          warnings.simplefilter(\"ignore\")\n",
        "          model.fit(X_train_, y_train)\n",
        "      print(f\"Training finished for round {config['rnd']}\")\n",
        "      return get_model_parameters(model), len(X_train_), {}\n",
        "\n",
        "    def evaluate(self, parameters, config):\n",
        "      set_model_params(model, parameters)\n",
        "      loss = log_loss(y_test, model.predict_proba(X_test_))\n",
        "      accuracy = model.score(X_test_, y_test)\n",
        "      return loss, len(X_test_), {\"accuracy\": accuracy}\n",
        "\n",
        "  # Start Flower client\n",
        "  fl.client.start_numpy_client(\"0.0.0.0:80\", client=MnistClient())"
      ],
      "metadata": {
        "id": "pi5hoX8kwx5q"
      },
      "execution_count": 100,
      "outputs": []
    },
    {
      "cell_type": "code",
      "source": [
        "def start_flower_clients(number_of_clients):\n",
        "  # Load dataset\n",
        "  (X_train, y_train), (X_test, y_test) = load_dataset()\n",
        "\n",
        "  # Select features\n",
        "  X_train_ = feature_transformer.transform(X_train)\n",
        "  X_test_ = feature_transformer.transform(X_test)\n",
        "\n",
        "  # Split train set into number_of_clients partitions.\n",
        "  partitioned_train_set = partition(X_train_, y_train, number_of_clients)\n",
        "\n",
        "  for i in range(number_of_clients):\n",
        "    (X_train_partition, y_train_partition) = partitioned_train_set[i]\n",
        "    client_process = mp.Process(target=start_flower_client, args=(X_train_partition, y_train_partition, X_test_, y_test))\n",
        "    client_process.start()\n",
        "    processes.append(client_process)"
      ],
      "metadata": {
        "id": "tUlNc4ezzRT-"
      },
      "execution_count": 98,
      "outputs": []
    },
    {
      "cell_type": "markdown",
      "source": [
        "## Driver Code"
      ],
      "metadata": {
        "id": "eyL2tIWqrGm9"
      }
    },
    {
      "cell_type": "code",
      "execution_count": 101,
      "metadata": {
        "id": "7XnkpjiHq5lo",
        "colab": {
          "base_uri": "https://localhost:8080/"
        },
        "outputId": "8020356b-b969-4f35-c930-4813202e4eb3"
      },
      "outputs": [
        {
          "output_type": "stream",
          "name": "stdout",
          "text": [
            "function: start_flower_server\n",
            "module name: __main__\n",
            "parent process: 62\n",
            "process id: 2280\n"
          ]
        },
        {
          "output_type": "stream",
          "name": "stderr",
          "text": [
            "INFO flower 2022-01-13 14:52:59,795 | app.py:80 | Flower server running (insecure, 5 rounds)\n",
            "INFO flower 2022-01-13 14:52:59,798 | server.py:118 | Initializing global parameters\n",
            "INFO flower 2022-01-13 14:52:59,800 | server.py:304 | Requesting initial parameters from one random client\n"
          ]
        },
        {
          "output_type": "stream",
          "name": "stdout",
          "text": [
            "function: start_flower_client\n",
            "module name: __main__\n",
            "parent process: 62\n",
            "process id: 2299\n"
          ]
        },
        {
          "output_type": "stream",
          "name": "stderr",
          "text": [
            "DEBUG flower 2022-01-13 14:53:01,262 | connection.py:36 | ChannelConnectivity.IDLE\n",
            "DEBUG flower 2022-01-13 14:53:01,269 | connection.py:36 | ChannelConnectivity.READY\n",
            "INFO flower 2022-01-13 14:53:01,276 | app.py:61 | Opened (insecure) gRPC connection\n",
            "INFO flower 2022-01-13 14:53:01,296 | server.py:307 | Received initial parameters from one random client\n"
          ]
        },
        {
          "output_type": "stream",
          "name": "stdout",
          "text": [
            "function: start_flower_client\n",
            "module name: __main__\n",
            "parent process: 62\n",
            "process id: 2317\n"
          ]
        },
        {
          "output_type": "stream",
          "name": "stderr",
          "text": [
            "INFO flower 2022-01-13 14:53:01,305 | server.py:120 | Evaluating initial parameters\n",
            "INFO flower 2022-01-13 14:53:01,400 | app.py:61 | Opened (insecure) gRPC connection\n",
            "DEBUG flower 2022-01-13 14:53:01,407 | connection.py:36 | ChannelConnectivity.IDLE\n",
            "DEBUG flower 2022-01-13 14:53:01,417 | connection.py:36 | ChannelConnectivity.READY\n",
            "INFO flower 2022-01-13 14:53:01,439 | server.py:127 | initial parameters (loss, other metrics): 1.0986122886681096, {'accuracy': 0.04759983864461476}\n",
            "INFO flower 2022-01-13 14:53:01,442 | server.py:133 | FL starting\n",
            "DEBUG flower 2022-01-13 14:53:01,444 | server.py:255 | fit_round: strategy sampled 2 clients (out of 2)\n"
          ]
        },
        {
          "output_type": "stream",
          "name": "stdout",
          "text": [
            "Training finished for round 1\n",
            "Training finished for round 1\n"
          ]
        },
        {
          "output_type": "stream",
          "name": "stderr",
          "text": [
            "DEBUG flower 2022-01-13 14:53:01,940 | server.py:264 | fit_round received 2 results and 0 failures\n",
            "INFO flower 2022-01-13 14:53:01,975 | server.py:154 | fit progress: (1, 1.1555754654360695, {'accuracy': 0.40500201694231547}, 0.5308751789998496)\n",
            "INFO flower 2022-01-13 14:53:01,978 | server.py:199 | evaluate_round: no clients selected, cancel\n",
            "DEBUG flower 2022-01-13 14:53:01,986 | server.py:255 | fit_round: strategy sampled 2 clients (out of 2)\n"
          ]
        },
        {
          "output_type": "stream",
          "name": "stdout",
          "text": [
            "Training finished for round 2\n",
            "Training finished for round 2\n"
          ]
        },
        {
          "output_type": "stream",
          "name": "stderr",
          "text": [
            "DEBUG flower 2022-01-13 14:53:02,396 | server.py:264 | fit_round received 2 results and 0 failures\n",
            "INFO flower 2022-01-13 14:53:02,433 | server.py:154 | fit progress: (2, 1.1555754654360695, {'accuracy': 0.40500201694231547}, 0.989463131998491)\n",
            "INFO flower 2022-01-13 14:53:02,445 | server.py:199 | evaluate_round: no clients selected, cancel\n",
            "DEBUG flower 2022-01-13 14:53:02,452 | server.py:255 | fit_round: strategy sampled 2 clients (out of 2)\n"
          ]
        },
        {
          "output_type": "stream",
          "name": "stdout",
          "text": [
            "Training finished for round 3\n",
            "Training finished for round 3\n"
          ]
        },
        {
          "output_type": "stream",
          "name": "stderr",
          "text": [
            "DEBUG flower 2022-01-13 14:53:02,875 | server.py:264 | fit_round received 2 results and 0 failures\n",
            "INFO flower 2022-01-13 14:53:02,905 | server.py:154 | fit progress: (3, 1.1555754654360695, {'accuracy': 0.40500201694231547}, 1.4609841419987788)\n",
            "INFO flower 2022-01-13 14:53:02,912 | server.py:199 | evaluate_round: no clients selected, cancel\n",
            "DEBUG flower 2022-01-13 14:53:02,919 | server.py:255 | fit_round: strategy sampled 2 clients (out of 2)\n"
          ]
        },
        {
          "output_type": "stream",
          "name": "stdout",
          "text": [
            "Training finished for round 4\n",
            "Training finished for round 4\n"
          ]
        },
        {
          "output_type": "stream",
          "name": "stderr",
          "text": [
            "DEBUG flower 2022-01-13 14:53:03,295 | server.py:264 | fit_round received 2 results and 0 failures\n",
            "INFO flower 2022-01-13 14:53:03,351 | server.py:154 | fit progress: (4, 1.1555754654360695, {'accuracy': 0.40500201694231547}, 1.907315167998604)\n",
            "INFO flower 2022-01-13 14:53:03,359 | server.py:199 | evaluate_round: no clients selected, cancel\n",
            "DEBUG flower 2022-01-13 14:53:03,366 | server.py:255 | fit_round: strategy sampled 2 clients (out of 2)\n"
          ]
        },
        {
          "output_type": "stream",
          "name": "stdout",
          "text": [
            "Training finished for round 5\n",
            "Training finished for round 5\n"
          ]
        },
        {
          "output_type": "stream",
          "name": "stderr",
          "text": [
            "DEBUG flower 2022-01-13 14:53:03,734 | server.py:264 | fit_round received 2 results and 0 failures\n",
            "INFO flower 2022-01-13 14:53:03,790 | server.py:154 | fit progress: (5, 1.1555754654360695, {'accuracy': 0.40500201694231547}, 2.3465218490000552)\n",
            "INFO flower 2022-01-13 14:53:03,798 | server.py:199 | evaluate_round: no clients selected, cancel\n",
            "INFO flower 2022-01-13 14:53:03,820 | server.py:172 | FL finished in 2.376279116999285\n",
            "INFO flower 2022-01-13 14:53:03,828 | app.py:119 | app_fit: losses_distributed []\n",
            "INFO flower 2022-01-13 14:53:03,835 | app.py:120 | app_fit: metrics_distributed {}\n",
            "INFO flower 2022-01-13 14:53:03,838 | app.py:121 | app_fit: losses_centralized [(0, 1.0986122886681096), (1, 1.1555754654360695), (2, 1.1555754654360695), (3, 1.1555754654360695), (4, 1.1555754654360695), (5, 1.1555754654360695)]\n",
            "INFO flower 2022-01-13 14:53:03,841 | app.py:122 | app_fit: metrics_centralized {'accuracy': [(0, 0.04759983864461476), (1, 0.40500201694231547), (2, 0.40500201694231547), (3, 0.40500201694231547), (4, 0.40500201694231547), (5, 0.40500201694231547)]}\n",
            "DEBUG flower 2022-01-13 14:53:03,853 | connection.py:68 | Insecure gRPC channel closed\n",
            "DEBUG flower 2022-01-13 14:53:03,851 | connection.py:68 | Insecure gRPC channel closed\n",
            "INFO flower 2022-01-13 14:53:03,855 | app.py:72 | Disconnect and shut down\n",
            "INFO flower 2022-01-13 14:53:03,861 | app.py:72 | Disconnect and shut down\n"
          ]
        }
      ],
      "source": [
        "# This will hold all the processes which we are going to create\n",
        "processes = []\n",
        "\n",
        "# Start Flower server\n",
        "server_process = mp.Process(target=start_flower_server)\n",
        "server_process.start()\n",
        "processes.append(server_process)\n",
        "\n",
        "# Optionally block the script here for a second or two so the server has time to start\n",
        "time.sleep(2)\n",
        "\n",
        "# Start Flower clients\n",
        "start_flower_clients(2)\n",
        "\n",
        "# Wait for processes to finish\n",
        "for p in processes:\n",
        "  p.join()"
      ]
    }
  ],
  "metadata": {
    "kernelspec": {
      "display_name": "Python 3",
      "name": "python3"
    },
    "language_info": {
      "name": "python"
    },
    "colab": {
      "name": "Federated-Detection-Of-Hate-Speech.ipynb",
      "provenance": [],
      "collapsed_sections": []
    }
  },
  "nbformat": 4,
  "nbformat_minor": 0
}